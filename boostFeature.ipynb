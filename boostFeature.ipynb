{
 "cells": [
  {
   "cell_type": "markdown",
   "id": "strong-english",
   "metadata": {},
   "source": [
    "<a href=\"https://colab.research.google.com/github/epsilon-deltta/amazon-review/blob/master/boostFeature.ipynb\" target=\"_parent\"><img src=\"https://colab.research.google.com/assets/colab-badge.svg\" alt=\"Open In Colab\"/></a>"
   ]
  },
  {
   "cell_type": "markdown",
   "id": "serious-offense",
   "metadata": {
    "id": "protective-springer"
   },
   "source": [
    "### import  "
   ]
  },
  {
   "cell_type": "code",
   "execution_count": 1,
   "id": "unable-confusion",
   "metadata": {
    "colab": {
     "base_uri": "https://localhost:8080/"
    },
    "collapsed": true,
    "id": "christian-fields",
    "jupyter": {
     "outputs_hidden": true
    },
    "outputId": "cca37e3b-014a-4eb6-83a1-df7d29262321"
   },
   "outputs": [
    {
     "name": "stdout",
     "output_type": "stream",
     "text": [
      "Collecting livelossplot\n",
      "  Downloading https://files.pythonhosted.org/packages/57/26/840be243088ce142d61c60273408ec09fa1de4534056a56d6e91b73f0cae/livelossplot-0.5.4-py3-none-any.whl\n",
      "Requirement already satisfied: bokeh in /usr/local/lib/python3.7/dist-packages (from livelossplot) (2.1.1)\n",
      "Requirement already satisfied: matplotlib in /usr/local/lib/python3.7/dist-packages (from livelossplot) (3.2.2)\n",
      "Requirement already satisfied: ipython in /usr/local/lib/python3.7/dist-packages (from livelossplot) (5.5.0)\n",
      "Requirement already satisfied: pillow>=4.0 in /usr/local/lib/python3.7/dist-packages (from bokeh->livelossplot) (7.0.0)\n",
      "Requirement already satisfied: packaging>=16.8 in /usr/local/lib/python3.7/dist-packages (from bokeh->livelossplot) (20.9)\n",
      "Requirement already satisfied: tornado>=5.1 in /usr/local/lib/python3.7/dist-packages (from bokeh->livelossplot) (5.1.1)\n",
      "Requirement already satisfied: typing-extensions>=3.7.4 in /usr/local/lib/python3.7/dist-packages (from bokeh->livelossplot) (3.7.4.3)\n",
      "Requirement already satisfied: Jinja2>=2.7 in /usr/local/lib/python3.7/dist-packages (from bokeh->livelossplot) (2.11.3)\n",
      "Requirement already satisfied: python-dateutil>=2.1 in /usr/local/lib/python3.7/dist-packages (from bokeh->livelossplot) (2.8.1)\n",
      "Requirement already satisfied: numpy>=1.11.3 in /usr/local/lib/python3.7/dist-packages (from bokeh->livelossplot) (1.19.5)\n",
      "Requirement already satisfied: PyYAML>=3.10 in /usr/local/lib/python3.7/dist-packages (from bokeh->livelossplot) (3.13)\n",
      "Requirement already satisfied: kiwisolver>=1.0.1 in /usr/local/lib/python3.7/dist-packages (from matplotlib->livelossplot) (1.3.1)\n",
      "Requirement already satisfied: cycler>=0.10 in /usr/local/lib/python3.7/dist-packages (from matplotlib->livelossplot) (0.10.0)\n",
      "Requirement already satisfied: pyparsing!=2.0.4,!=2.1.2,!=2.1.6,>=2.0.1 in /usr/local/lib/python3.7/dist-packages (from matplotlib->livelossplot) (2.4.7)\n",
      "Requirement already satisfied: pygments in /usr/local/lib/python3.7/dist-packages (from ipython->livelossplot) (2.6.1)\n",
      "Requirement already satisfied: setuptools>=18.5 in /usr/local/lib/python3.7/dist-packages (from ipython->livelossplot) (54.0.0)\n",
      "Requirement already satisfied: pexpect; sys_platform != \"win32\" in /usr/local/lib/python3.7/dist-packages (from ipython->livelossplot) (4.8.0)\n",
      "Requirement already satisfied: pickleshare in /usr/local/lib/python3.7/dist-packages (from ipython->livelossplot) (0.7.5)\n",
      "Requirement already satisfied: prompt-toolkit<2.0.0,>=1.0.4 in /usr/local/lib/python3.7/dist-packages (from ipython->livelossplot) (1.0.18)\n",
      "Requirement already satisfied: decorator in /usr/local/lib/python3.7/dist-packages (from ipython->livelossplot) (4.4.2)\n",
      "Requirement already satisfied: traitlets>=4.2 in /usr/local/lib/python3.7/dist-packages (from ipython->livelossplot) (5.0.5)\n",
      "Requirement already satisfied: simplegeneric>0.8 in /usr/local/lib/python3.7/dist-packages (from ipython->livelossplot) (0.8.1)\n",
      "Requirement already satisfied: MarkupSafe>=0.23 in /usr/local/lib/python3.7/dist-packages (from Jinja2>=2.7->bokeh->livelossplot) (1.1.1)\n",
      "Requirement already satisfied: six>=1.5 in /usr/local/lib/python3.7/dist-packages (from python-dateutil>=2.1->bokeh->livelossplot) (1.15.0)\n",
      "Requirement already satisfied: ptyprocess>=0.5 in /usr/local/lib/python3.7/dist-packages (from pexpect; sys_platform != \"win32\"->ipython->livelossplot) (0.7.0)\n",
      "Requirement already satisfied: wcwidth in /usr/local/lib/python3.7/dist-packages (from prompt-toolkit<2.0.0,>=1.0.4->ipython->livelossplot) (0.2.5)\n",
      "Requirement already satisfied: ipython-genutils in /usr/local/lib/python3.7/dist-packages (from traitlets>=4.2->ipython->livelossplot) (0.2.0)\n",
      "Installing collected packages: livelossplot\n",
      "Successfully installed livelossplot-0.5.4\n",
      "Requirement already satisfied: livelossplot in /usr/local/lib/python3.7/dist-packages (0.5.4)\n",
      "Requirement already satisfied: bokeh in /usr/local/lib/python3.7/dist-packages (from livelossplot) (2.1.1)\n",
      "Requirement already satisfied: matplotlib in /usr/local/lib/python3.7/dist-packages (from livelossplot) (3.2.2)\n",
      "Requirement already satisfied: ipython in /usr/local/lib/python3.7/dist-packages (from livelossplot) (5.5.0)\n",
      "Requirement already satisfied: tornado>=5.1 in /usr/local/lib/python3.7/dist-packages (from bokeh->livelossplot) (5.1.1)\n",
      "Requirement already satisfied: python-dateutil>=2.1 in /usr/local/lib/python3.7/dist-packages (from bokeh->livelossplot) (2.8.1)\n",
      "Requirement already satisfied: numpy>=1.11.3 in /usr/local/lib/python3.7/dist-packages (from bokeh->livelossplot) (1.19.5)\n",
      "Requirement already satisfied: Jinja2>=2.7 in /usr/local/lib/python3.7/dist-packages (from bokeh->livelossplot) (2.11.3)\n",
      "Requirement already satisfied: packaging>=16.8 in /usr/local/lib/python3.7/dist-packages (from bokeh->livelossplot) (20.9)\n",
      "Requirement already satisfied: typing-extensions>=3.7.4 in /usr/local/lib/python3.7/dist-packages (from bokeh->livelossplot) (3.7.4.3)\n",
      "Requirement already satisfied: PyYAML>=3.10 in /usr/local/lib/python3.7/dist-packages (from bokeh->livelossplot) (3.13)\n",
      "Requirement already satisfied: pillow>=4.0 in /usr/local/lib/python3.7/dist-packages (from bokeh->livelossplot) (7.0.0)\n",
      "Requirement already satisfied: kiwisolver>=1.0.1 in /usr/local/lib/python3.7/dist-packages (from matplotlib->livelossplot) (1.3.1)\n",
      "Requirement already satisfied: pyparsing!=2.0.4,!=2.1.2,!=2.1.6,>=2.0.1 in /usr/local/lib/python3.7/dist-packages (from matplotlib->livelossplot) (2.4.7)\n",
      "Requirement already satisfied: cycler>=0.10 in /usr/local/lib/python3.7/dist-packages (from matplotlib->livelossplot) (0.10.0)\n",
      "Requirement already satisfied: decorator in /usr/local/lib/python3.7/dist-packages (from ipython->livelossplot) (4.4.2)\n",
      "Requirement already satisfied: pickleshare in /usr/local/lib/python3.7/dist-packages (from ipython->livelossplot) (0.7.5)\n",
      "Requirement already satisfied: setuptools>=18.5 in /usr/local/lib/python3.7/dist-packages (from ipython->livelossplot) (54.0.0)\n",
      "Requirement already satisfied: pexpect; sys_platform != \"win32\" in /usr/local/lib/python3.7/dist-packages (from ipython->livelossplot) (4.8.0)\n",
      "Requirement already satisfied: prompt-toolkit<2.0.0,>=1.0.4 in /usr/local/lib/python3.7/dist-packages (from ipython->livelossplot) (1.0.18)\n",
      "Requirement already satisfied: traitlets>=4.2 in /usr/local/lib/python3.7/dist-packages (from ipython->livelossplot) (5.0.5)\n",
      "Requirement already satisfied: pygments in /usr/local/lib/python3.7/dist-packages (from ipython->livelossplot) (2.6.1)\n",
      "Requirement already satisfied: simplegeneric>0.8 in /usr/local/lib/python3.7/dist-packages (from ipython->livelossplot) (0.8.1)\n",
      "Requirement already satisfied: six>=1.5 in /usr/local/lib/python3.7/dist-packages (from python-dateutil>=2.1->bokeh->livelossplot) (1.15.0)\n",
      "Requirement already satisfied: MarkupSafe>=0.23 in /usr/local/lib/python3.7/dist-packages (from Jinja2>=2.7->bokeh->livelossplot) (1.1.1)\n",
      "Requirement already satisfied: ptyprocess>=0.5 in /usr/local/lib/python3.7/dist-packages (from pexpect; sys_platform != \"win32\"->ipython->livelossplot) (0.7.0)\n",
      "Requirement already satisfied: wcwidth in /usr/local/lib/python3.7/dist-packages (from prompt-toolkit<2.0.0,>=1.0.4->ipython->livelossplot) (0.2.5)\n",
      "Requirement already satisfied: ipython-genutils in /usr/local/lib/python3.7/dist-packages (from traitlets>=4.2->ipython->livelossplot) (0.2.0)\n"
     ]
    }
   ],
   "source": [
    "!pip install livelossplot\n",
    "import os\n",
    "import pandas as pd\n",
    "import numpy as np\n",
    "import seaborn as sns\n",
    "import matplotlib.pyplot as plt\n",
    "import tensorflow as tf\n",
    "\n",
    "from keras.datasets import mnist\n",
    "from keras.utils import np_utils\n",
    "from keras.models import Sequential\n",
    "from keras.layers import Dense, Flatten  \n",
    "\n",
    "from keras.layers import Conv2D,MaxPooling1D,MaxPooling2D ,Conv1D\n",
    "\n",
    "from keras.layers import Dropout , BatchNormalization\n",
    "from keras.layers import Embedding , LSTM\n",
    "\n",
    "from keras.callbacks import ModelCheckpoint,EarlyStopping\n",
    "!pip install livelossplot\n",
    "from livelossplot import PlotLossesKeras\n",
    "\n",
    "#### Do once (load , nlp preprocess , build Embedding Matrix ) \n",
    "\n",
    "# in colab\n",
    "# preprocess\n",
    "# embedding\n",
    "# xtr,ytr,xte,yte, embedding_matrix,vocab_size,vector_size = load_data(path)"
   ]
  },
  {
   "cell_type": "markdown",
   "id": "abstract-judge",
   "metadata": {
    "id": "central-consultancy"
   },
   "source": [
    "### handle data "
   ]
  },
  {
   "cell_type": "code",
   "execution_count": 2,
   "id": "informative-present",
   "metadata": {
    "id": "grave-emerald"
   },
   "outputs": [],
   "source": [
    "if not os.path.exists('data'):\n",
    "    os.system('git clone https://github.com/epsilon-deltta/dataset data')\n",
    "    path = './data/amazon-review/'\n",
    "else :\n",
    "    if os.path.exists('data/amazon-review'):\n",
    "        path = './data/amazon-review/'\n",
    "    else:\n",
    "        path = './data/'\n",
    "def load_data(path='./data/'):\n",
    "    testdir  = path + 'test/'\n",
    "    traindir = path + 'train/'\n",
    "\n",
    "    df = [ pd.DataFrame(columns = ['n','review','target']) for _ in range(2)]\n",
    "\n",
    "    for i,path in enumerate([traindir,testdir]):\n",
    "        path = path\n",
    "        label = 'positive'\n",
    "\n",
    "        poslist = [ os.path.join(path,label,name) for name in os.listdir(path+label) ]\n",
    "\n",
    "        label = 'negative' \n",
    "        neglist = [ os.path.join(path,label,name) for name in os.listdir(path+label) ]\n",
    "\n",
    "        sep = os.path.sep\n",
    "\n",
    "        for fpath in poslist :\n",
    "            num = fpath.split(sep)[-1]\n",
    "            with open(fpath,'r') as f :\n",
    "                content = f.read()\n",
    "\n",
    "            item = dict(zip(df[i].columns,[num,content,1] ) )\n",
    "            df[i] = df[i].append(item,ignore_index=True)\n",
    "\n",
    "        for fpath in neglist :\n",
    "            num = fpath.split(sep)[-1]\n",
    "            with open(fpath,'r') as f :\n",
    "                content = f.read()\n",
    "\n",
    "            item = dict(zip(df[i].columns,[num,content,0] ) )\n",
    "            df[i] = df[i].append(item,ignore_index=True)\n",
    "    return df[0].review,df[0].target,df[1].review,df[1].target\n",
    "\n",
    "xtr,ytr,xte,yte = load_data(path)"
   ]
  },
  {
   "cell_type": "code",
   "execution_count": 3,
   "id": "refined-border",
   "metadata": {
    "id": "engaging-intranet"
   },
   "outputs": [],
   "source": [
    "from tensorflow.keras.preprocessing.text import text_to_word_sequence,Tokenizer\n",
    "from keras.preprocessing import text\n",
    "\n",
    "# - Word Index: keep the most frequent 10k words\n",
    "vocab_size = 10000\n",
    "token = Tokenizer(num_words = vocab_size + 1) # 상위 10000개 단어만 사용\n",
    "\n",
    "token.fit_on_texts(xtr)\n",
    "max_len = 400\n",
    "def preprocess(docs,token,max_len=400):\n",
    "    docs = token.texts_to_sequences(docs)\n",
    "    \n",
    "    from tensorflow.keras.preprocessing.sequence import pad_sequences\n",
    "    docs = pad_sequences(docs, maxlen=max_len)\n",
    "    \n",
    "    return docs\n",
    "\n",
    "xtr = preprocess(xtr,token)\n",
    "xte = preprocess(xte,token)"
   ]
  },
  {
   "cell_type": "code",
   "execution_count": 4,
   "id": "romantic-christmas",
   "metadata": {
    "id": "hindu-tulsa"
   },
   "outputs": [],
   "source": [
    "# - Word embedding dimension: 100\n",
    "# vocab_size  = token.num_words # 10000+ 1 \n",
    "vector_size = 100  #100\n",
    "vocab_size = 10001\n",
    "\n",
    "def get_emb_mtr():\n",
    "    wv = pd.read_csv(path+'all.review.vec.txt',sep=' ',skiprows=1,header=None)\n",
    "\n",
    "    wv.set_index(0,inplace=True)\n",
    "    del wv[101]\n",
    "\n",
    "\n",
    "    embedding_matrix = np.zeros((vocab_size, vector_size))\n",
    "\n",
    "    def get_vector(word):\n",
    "        if word in wv.index:\n",
    "            return wv.loc[word]\n",
    "        else:\n",
    "            return None\n",
    "\n",
    "    num = 0\n",
    "    word_index = [( i,word) for i,word in token.index_word.items()][:10000]\n",
    "    not_used = []\n",
    "    for i,word in word_index: \n",
    "        temp = get_vector(word)\n",
    "        if temp is not None: \n",
    "\n",
    "            embedding_matrix[i] = temp # 해당 단어 위치의 행에 벡터의 값을 저장한다.\n",
    "        else :\n",
    "            not_used.append(word)\n",
    "            num+=1\n",
    "    return embedding_matrix , not_used,num,wv\n",
    "\n",
    "embedding_matrix , not_used,num,wv = get_emb_mtr()"
   ]
  },
  {
   "cell_type": "markdown",
   "id": "surprising-collector",
   "metadata": {
    "id": "seeing-meditation"
   },
   "source": [
    "#### preprocess(cleaning) \n",
    "'solar > ' solar # 대부분의 단어가 'solar queen ' 여거에서 파생됨 , 'solar queen ' 책 제목이나 영화이름을 지칭한듯 보인다.\n",
    "laszlo : 이름   \n",
    "battelle : 사람이름   \n",
    "zia : 장소이름    \n",
    "huband : 사람이름  \n",
    "arnhart : 사람이름  \n",
    "groothuis : 사람이름  \n",
    "eddison : 사람이름\n",
    "\n",
    "3rds > thirds"
   ]
  },
  {
   "cell_type": "code",
   "execution_count": 5,
   "id": "referenced-drunk",
   "metadata": {
    "id": "present-while"
   },
   "outputs": [],
   "source": [
    "xtr = xtr.astype('float')\n",
    "xte = xte.astype('float')\n",
    "ytr = ytr.astype('float')\n",
    "yte = yte.astype('float')"
   ]
  },
  {
   "cell_type": "code",
   "execution_count": 14,
   "id": "positive-shark",
   "metadata": {
    "id": "pTyBuO90WaLN"
   },
   "outputs": [],
   "source": [
    "from sklearn.model_selection import train_test_split\r\n",
    "x = np.concatenate([xtr,xte])\r\n",
    "y = np.concatenate([ytr,yte])\r\n",
    "xtr, xte, ytr, yte   = train_test_split(x, y, test_size=0.3, random_state=10)\r\n",
    "    # xtr, xval, ytr, yval = train_test_split(xtr, ytr, test_size=trval_rate, random_state=10) "
   ]
  },
  {
   "cell_type": "markdown",
   "id": "unavailable-shame",
   "metadata": {
    "id": "hourly-tenant"
   },
   "source": [
    "### model "
   ]
  },
  {
   "cell_type": "code",
   "execution_count": 31,
   "id": "later-third",
   "metadata": {
    "id": "prime-maple"
   },
   "outputs": [],
   "source": [
    "def get_bestpath(pathname):\n",
    "    import re\n",
    "    modelf = re.compile('\\d+[-]')\n",
    "    bestpath = sorted([ fname for fname in os.listdir(pathname) if modelf.match(fname) ],reverse=True)[0]\n",
    "    bestpath = pathname+'/'+bestpath\n",
    "    return bestpath\n",
    "\n",
    "def livetrain(model):\n",
    "    \n",
    "    dirname = model.name\n",
    "    if os.path.exists(dirname):\n",
    "        for name in os.listdir(dirname):\n",
    "            os.remove(dirname+'/'+name)\n",
    "    else :\n",
    "        os.mkdir(dirname)\n",
    "    modelpath= dirname + \"/{epoch:02d}-{val_loss:.4f}-{val_acc:f}.hdf5\"\n",
    "\n",
    "    live  = PlotLossesKeras()\n",
    "    early = tf.keras.callbacks.EarlyStopping(monitor='val_loss',patience=15)\n",
    "    checkpointer = ModelCheckpoint(filepath=modelpath, monitor='val_acc', verbose=1,patience=20,save_best_only=True)    \n",
    "    \n",
    "    history = model.fit(xtr, ytr, batch_size=200, epochs=300, verbose=1\n",
    "                    # ,validation_data=(xval, yval) \\\n",
    "                    ,validation_split=0.2\n",
    "                    ,callbacks=[live,early,checkpointer])\n",
    "    \n",
    "    bestpath = get_bestpath(dirname)\n",
    "    model.load_weights(bestpath)\n",
    "        \n",
    "    print(bestpath)\n",
    "    print(model.evaluate(xte,yte) )"
   ]
  },
  {
   "cell_type": "code",
   "execution_count": 32,
   "id": "driving-sierra",
   "metadata": {
    "id": "diverse-timber"
   },
   "outputs": [],
   "source": [
    "model_name = 'lstmb2'\n",
    "gpus = tf.config.experimental.list_logical_devices('gpu')\n",
    "if len(gpus) > 1:\n",
    "    strategy = tf.distribute.MirroredStrategy([gpu.name for gpu in gpus])\n",
    "else:\n",
    "    strategy = tf.distribute.get_strategy() # default strategy that works on CPU and single GPU\n",
    "\n",
    "with strategy.scope():\n",
    "\n",
    "    model = Sequential(name = model_name)\n",
    "    e = Embedding(vocab_size, vector_size, weights=[embedding_matrix], input_length=max_len, trainable=False)\n",
    "    model.add(e)\n",
    "    model.add(LSTM(100,activation='tanh'))\n",
    "    model.add(BatchNormalization())\n",
    "    \n",
    "    model.add(Dense(100,kernel_regularizer=tf.keras.regularizers.l2(0.001) ) )\n",
    "    \n",
    "    # model.add(Dropout(0.25))\n",
    "    model.add(BatchNormalization())\n",
    "    \n",
    "    model.add(Dense(1,activation='sigmoid'))\n",
    "\n",
    "    model.compile(optimizer='adam', loss='binary_crossentropy', metrics=['acc'])"
   ]
  },
  {
   "cell_type": "code",
   "execution_count": 33,
   "id": "beautiful-rental",
   "metadata": {
    "colab": {
     "base_uri": "https://localhost:8080/",
     "height": 778
    },
    "id": "administrative-parameter",
    "outputId": "19a03e96-3e9c-41da-a759-0a7792118d20"
   },
   "outputs": [
    {
     "data": {
      "image/png": "[encoded data removed]",
      "text/plain": [
       "<Figure size 864x576 with 2 Axes>"
      ]
     },
     "metadata": {
      "needs_background": "light",
      "tags": []
     },
     "output_type": "display_data"
    },
    {
     "name": "stdout",
     "output_type": "stream",
     "text": [
      "Accuracy\n",
      "\ttraining         \t (min:    0.660, max:    0.983, cur:    0.983)\n",
      "\tvalidation       \t (min:    0.591, max:    0.854, cur:    0.807)\n",
      "Loss\n",
      "\ttraining         \t (min:    0.106, max:    0.747, cur:    0.106)\n",
      "\tvalidation       \t (min:    0.436, max:    0.764, cur:    0.604)\n",
      "\n",
      "Epoch 00037: val_acc did not improve from 0.85357\n",
      "lstmb2/22-0.4362-0.853571.hdf5\n",
      "38/38 [==============================] - 0s 12ms/step - loss: 0.4108 - acc: 0.8533\n",
      "[0.41083431243896484, 0.8533333539962769]\n"
     ]
    }
   ],
   "source": [
    "livetrain(model)"
   ]
  },
  {
   "cell_type": "code",
   "execution_count": null,
   "id": "editorial-advocacy",
   "metadata": {
    "id": "pfoJoWMHTpP_"
   },
   "outputs": [],
   "source": []
  }
 ],
 "metadata": {
  "accelerator": "GPU",
  "colab": {
   "name": "boostFeature.ipynb",
   "provenance": [],
   "toc_visible": true
  },
  "kernelspec": {
   "display_name": "kera",
   "language": "python",
   "name": "kera"
  },
  "language_info": {
   "codemirror_mode": {
    "name": "ipython",
    "version": 3
   },
   "file_extension": ".py",
   "mimetype": "text/x-python",
   "name": "python",
   "nbconvert_exporter": "python",
   "pygments_lexer": "ipython3",
   "version": "3.6.12"
  },
  "widgets": {
   "application/vnd.jupyter.widget-state+json": {
    "state": {},
    "version_major": 2,
    "version_minor": 0
   }
  }
 },
 "nbformat": 4,
 "nbformat_minor": 5
}
