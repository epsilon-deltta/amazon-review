{
 "cells": [
  {
   "cell_type": "code",
   "execution_count": 2,
   "id": "boolean-premises",
   "metadata": {},
   "outputs": [],
   "source": [
    "import os"
   ]
  },
  {
   "cell_type": "code",
   "execution_count": 1,
   "id": "velvet-falls",
   "metadata": {},
   "outputs": [],
   "source": [
    "import pandas as pd\n",
    "import numpy as np\n",
    "import seaborn as sns\n",
    "import matplotlib.pyplot as plt"
   ]
  },
  {
   "cell_type": "markdown",
   "id": "interstate-order",
   "metadata": {},
   "source": [
    "1. Training Set Construction (5 pts)\n",
    "Construct the training set for the amazon review dataset as instructed and report the following statistics.\n",
    "Statistics\n",
    "\n",
    "- the total number of unique words in T\n",
    "- the total number of training examples in T  \n",
    "    : 2000 \n",
    "- the ratio of positive examples to negative examples in T   \n",
    "    : 1:1  \n",
    "- the average length of document in T\n",
    "- the max length of document in T"
   ]
  },
  {
   "cell_type": "code",
   "execution_count": 6,
   "id": "improved-congo",
   "metadata": {},
   "outputs": [],
   "source": [
    "path     = './data/'\n",
    "testdir  = path + 'test/'\n",
    "traindir = path + 'train/'"
   ]
  },
  {
   "cell_type": "code",
   "execution_count": 10,
   "id": "acute-battery",
   "metadata": {},
   "outputs": [],
   "source": [
    "with open(testdir+'negative/'+'0','r') as f:\n",
    "    content = f.read()"
   ]
  },
  {
   "cell_type": "code",
   "execution_count": 14,
   "id": "simplified-auction",
   "metadata": {},
   "outputs": [],
   "source": [
    "df = pd.DataFrame(columns = ['n','review','target'])"
   ]
  },
  {
   "cell_type": "code",
   "execution_count": 15,
   "id": "turkish-suggestion",
   "metadata": {},
   "outputs": [
    {
     "data": {
      "text/html": [
       "<div>\n",
       "<style scoped>\n",
       "    .dataframe tbody tr th:only-of-type {\n",
       "        vertical-align: middle;\n",
       "    }\n",
       "\n",
       "    .dataframe tbody tr th {\n",
       "        vertical-align: top;\n",
       "    }\n",
       "\n",
       "    .dataframe thead th {\n",
       "        text-align: right;\n",
       "    }\n",
       "</style>\n",
       "<table border=\"1\" class=\"dataframe\">\n",
       "  <thead>\n",
       "    <tr style=\"text-align: right;\">\n",
       "      <th></th>\n",
       "      <th>n</th>\n",
       "      <th>review</th>\n",
       "      <th>target</th>\n",
       "    </tr>\n",
       "  </thead>\n",
       "  <tbody>\n",
       "  </tbody>\n",
       "</table>\n",
       "</div>"
      ],
      "text/plain": [
       "Empty DataFrame\n",
       "Columns: [n, review, target]\n",
       "Index: []"
      ]
     },
     "execution_count": 15,
     "metadata": {},
     "output_type": "execute_result"
    }
   ],
   "source": [
    "df"
   ]
  },
  {
   "cell_type": "code",
   "execution_count": 45,
   "id": "cordless-fluid",
   "metadata": {},
   "outputs": [],
   "source": [
    "path = './data/train/'\n",
    "\n",
    "label = 'positive'\n",
    "\n",
    "poslist = [ os.path.join(path,label,name) for name in os.listdir(path+label) ]\n",
    "\n",
    "label = 'negative' \n",
    "neglist = [ os.path.join(path,label,name) for name in os.listdir(path+label) ]"
   ]
  },
  {
   "cell_type": "code",
   "execution_count": 85,
   "id": "crude-parent",
   "metadata": {},
   "outputs": [],
   "source": [
    "sep = os.path.sep\n",
    "\n",
    "for fpath in poslist :\n",
    "    num = fpath.split(sep)[-1]\n",
    "    with open(fpath,'r') as f :\n",
    "        content = f.read()\n",
    "        \n",
    "    item = dict(zip(df.columns,[num,content,1] ) )\n",
    "    df = df.append(item,ignore_index=True)\n",
    "\n",
    "for fpath in neglist :\n",
    "    num = fpath.split(sep)[-1]\n",
    "    with open(fpath,'r') as f :\n",
    "        content = f.read()\n",
    "        \n",
    "    item = dict(zip(df.columns,[num,content,0] ) )\n",
    "    df = df.append(item,ignore_index=True)"
   ]
  },
  {
   "cell_type": "code",
   "execution_count": 98,
   "id": "monetary-agriculture",
   "metadata": {},
   "outputs": [],
   "source": [
    "posRatio = len(poslist)/len(neglist)"
   ]
  },
  {
   "cell_type": "code",
   "execution_count": 99,
   "id": "attempted-doctor",
   "metadata": {},
   "outputs": [
    {
     "data": {
      "text/plain": [
       "1.0"
      ]
     },
     "execution_count": 99,
     "metadata": {},
     "output_type": "execute_result"
    }
   ],
   "source": [
    "posRatio"
   ]
  },
  {
   "cell_type": "code",
   "execution_count": 100,
   "id": "sudden-girlfriend",
   "metadata": {},
   "outputs": [
    {
     "data": {
      "text/html": [
       "<div>\n",
       "<style scoped>\n",
       "    .dataframe tbody tr th:only-of-type {\n",
       "        vertical-align: middle;\n",
       "    }\n",
       "\n",
       "    .dataframe tbody tr th {\n",
       "        vertical-align: top;\n",
       "    }\n",
       "\n",
       "    .dataframe thead th {\n",
       "        text-align: right;\n",
       "    }\n",
       "</style>\n",
       "<table border=\"1\" class=\"dataframe\">\n",
       "  <thead>\n",
       "    <tr style=\"text-align: right;\">\n",
       "      <th></th>\n",
       "      <th>n</th>\n",
       "      <th>review</th>\n",
       "      <th>target</th>\n",
       "    </tr>\n",
       "  </thead>\n",
       "  <tbody>\n",
       "    <tr>\n",
       "      <th>0</th>\n",
       "      <td>1002</td>\n",
       "      <td>greatest spy thriller this is the true account...</td>\n",
       "      <td>1</td>\n",
       "    </tr>\n",
       "    <tr>\n",
       "      <th>1</th>\n",
       "      <td>1004</td>\n",
       "      <td>rick steves books are the best i love the way ...</td>\n",
       "      <td>1</td>\n",
       "    </tr>\n",
       "    <tr>\n",
       "      <th>2</th>\n",
       "      <td>1006</td>\n",
       "      <td>fascinating as a geography and history buff , ...</td>\n",
       "      <td>1</td>\n",
       "    </tr>\n",
       "    <tr>\n",
       "      <th>3</th>\n",
       "      <td>1007</td>\n",
       "      <td>plymoth we were very pleased with our books . ...</td>\n",
       "      <td>1</td>\n",
       "    </tr>\n",
       "    <tr>\n",
       "      <th>4</th>\n",
       "      <td>1008</td>\n",
       "      <td>is it reality or a blend of reality and fantas...</td>\n",
       "      <td>1</td>\n",
       "    </tr>\n",
       "    <tr>\n",
       "      <th>...</th>\n",
       "      <td>...</td>\n",
       "      <td>...</td>\n",
       "      <td>...</td>\n",
       "    </tr>\n",
       "    <tr>\n",
       "      <th>1995</th>\n",
       "      <td>991</td>\n",
       "      <td>dumb this is one of the stupidest books i have...</td>\n",
       "      <td>0</td>\n",
       "    </tr>\n",
       "    <tr>\n",
       "      <th>1996</th>\n",
       "      <td>992</td>\n",
       "      <td>buyer beware after reading this dull uninforma...</td>\n",
       "      <td>0</td>\n",
       "    </tr>\n",
       "    <tr>\n",
       "      <th>1997</th>\n",
       "      <td>993</td>\n",
       "      <td>not worth the money this book is only low to m...</td>\n",
       "      <td>0</td>\n",
       "    </tr>\n",
       "    <tr>\n",
       "      <th>1998</th>\n",
       "      <td>997</td>\n",
       "      <td>a step back i have been reading this book for ...</td>\n",
       "      <td>0</td>\n",
       "    </tr>\n",
       "    <tr>\n",
       "      <th>1999</th>\n",
       "      <td>999</td>\n",
       "      <td>the missing element an excellent and important...</td>\n",
       "      <td>0</td>\n",
       "    </tr>\n",
       "  </tbody>\n",
       "</table>\n",
       "<p>2000 rows × 3 columns</p>\n",
       "</div>"
      ],
      "text/plain": [
       "         n                                             review target\n",
       "0     1002  greatest spy thriller this is the true account...      1\n",
       "1     1004  rick steves books are the best i love the way ...      1\n",
       "2     1006  fascinating as a geography and history buff , ...      1\n",
       "3     1007  plymoth we were very pleased with our books . ...      1\n",
       "4     1008  is it reality or a blend of reality and fantas...      1\n",
       "...    ...                                                ...    ...\n",
       "1995   991  dumb this is one of the stupidest books i have...      0\n",
       "1996   992  buyer beware after reading this dull uninforma...      0\n",
       "1997   993  not worth the money this book is only low to m...      0\n",
       "1998   997  a step back i have been reading this book for ...      0\n",
       "1999   999  the missing element an excellent and important...      0\n",
       "\n",
       "[2000 rows x 3 columns]"
      ]
     },
     "execution_count": 100,
     "metadata": {},
     "output_type": "execute_result"
    }
   ],
   "source": [
    "df"
   ]
  },
  {
   "cell_type": "code",
   "execution_count": 97,
   "id": "nervous-zoning",
   "metadata": {},
   "outputs": [
    {
     "data": {
      "text/plain": [
       "2000"
      ]
     },
     "execution_count": 97,
     "metadata": {},
     "output_type": "execute_result"
    }
   ],
   "source": [
    "len(df)"
   ]
  },
  {
   "cell_type": "code",
   "execution_count": 21,
   "id": "violent-dakota",
   "metadata": {},
   "outputs": [
    {
     "name": "stdout",
     "output_type": "stream",
     "text": [
      "greatest spy thriller this is the true account of a spy by the name of virgina hall who very little is known about and even though she had a wooden leg she was an american spy during world 2 working first for the british and thean the americans deep behind german lines she saved many allied lifes , destroyed countless german trains and lead many freedom fighters on countless raids agaist nazi forces . for her bravery she was decorated by both the american and british goverment . the arthur judith l. pearson has interviewed and tracked down many formor freedom fighters who have shared there memorys of mrs halls world war 2 experiences and this remarkable writer has also traveled to the exact locations were this freedom fighter was and has for the first time got access to some real one of a kind records on the life of this very special spy . it was amazing to me that this spy accomplished all of these many things with a wooden leg . this book would really make a special gift for a friend , family member and or soldier serving over seas\n"
     ]
    }
   ],
   "source": [
    "with open(poslist[0],'r') as f:\n",
    "    print(f.read())"
   ]
  }
 ],
 "metadata": {
  "kernelspec": {
   "display_name": "kera",
   "language": "python",
   "name": "kera"
  },
  "language_info": {
   "codemirror_mode": {
    "name": "ipython",
    "version": 3
   },
   "file_extension": ".py",
   "mimetype": "text/x-python",
   "name": "python",
   "nbconvert_exporter": "python",
   "pygments_lexer": "ipython3",
   "version": "3.6.12"
  },
  "widgets": {
   "application/vnd.jupyter.widget-state+json": {
    "state": {},
    "version_major": 2,
    "version_minor": 0
   }
  }
 },
 "nbformat": 4,
 "nbformat_minor": 5
}
