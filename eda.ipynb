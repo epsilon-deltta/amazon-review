{
 "cells": [
  {
   "cell_type": "code",
   "execution_count": 1,
   "id": "functioning-brooks",
   "metadata": {},
   "outputs": [],
   "source": [
    "import pandas as pd\n",
    "import numpy as np\n",
    "import seaborn as sns\n",
    "import matplotlib.pyplot as plt"
   ]
  },
  {
   "cell_type": "code",
   "execution_count": 2,
   "id": "entitled-lodging",
   "metadata": {},
   "outputs": [],
   "source": [
    "import os"
   ]
  },
  {
   "cell_type": "code",
   "execution_count": 6,
   "id": "sound-mainstream",
   "metadata": {},
   "outputs": [],
   "source": [
    "path     = './data/'\n",
    "testdir  = path + 'test/'\n",
    "traindir = path + 'train/'"
   ]
  },
  {
   "cell_type": "code",
   "execution_count": 10,
   "id": "dramatic-activation",
   "metadata": {},
   "outputs": [],
   "source": [
    "with open(testdir+'negative/'+'0','r') as f:\n",
    "    content = f.read()"
   ]
  },
  {
   "cell_type": "code",
   "execution_count": 11,
   "id": "fifteen-mistake",
   "metadata": {},
   "outputs": [
    {
     "data": {
      "text/plain": [
       "\"good history , but ... ... . no doubt about it . this book covers the history of the border patrol . however , it falls far short of what it ostensibly bills itself and ends up more as a `` fluff piece '' than anything else . as someone who has not only served as a senior border patrol agent ( 13 years ) but also a border patrol union president and outspoken critic of the agency , i have studied this agency inside and out without the affects of tunnel vision that typically accompany the job ( many say a necessity ) . pacheco , as an active agent ( when he wrote the book at least ) , appears headed in the right direction with the book and then suddenly veers off target . his somewhat ambiguous message that border security is a difficult task is obviously an attempt to straddle the line ( i apologize for the pun ) so as not to appear too contentious or controversial . did he need to seek agency approval for publication since he was actively employed ? if so , then the credibility issue leaps out and the book is worth the historical content alone if nothing else . if he did not need agency approval and was truly writing without restraint , then he failed to accurately convey the real state of the border patrol and border security . simply put , the border patrol , as with most of the homeland security subcomponents is disintegrating . remember the incompetence of fema ( a homeland security subcomponent ) ? well , multiply that incompetence times ten . heard about the poor morale of fema employees ? multiply that problem by one-hundred and you have an accurate picture of the border patrol . a border patrol in which the vast majority of otherwise employable agents spend ninety-percent of their time trying to get out . those that choose to stay in do so only because of the comparatively worse off agencies in dhs . the bottom line is that as a former agent , i lose sleep at night knowing what i know . pacheco did cover the rigorous training regimen accurately even if it bordered on propaganda . that alone may attract candidates to the difficult and completely unrewarding position of u.s. border patrol agent . the field stories are completely unappealing to anyone who served more than a week in a law enforcement position unless they are reading about their own exploits . read the book for enjoyment and homage . just do n't expect critical analysis . in fact , this book would be an enjoyable read at stewarts bridge ( for you ib agents in san diego ) .\""
      ]
     },
     "execution_count": 11,
     "metadata": {},
     "output_type": "execute_result"
    }
   ],
   "source": [
    "content"
   ]
  },
  {
   "cell_type": "code",
   "execution_count": null,
   "id": "equivalent-banks",
   "metadata": {},
   "outputs": [],
   "source": []
  }
 ],
 "metadata": {
  "kernelspec": {
   "display_name": "kera",
   "language": "python",
   "name": "kera"
  },
  "language_info": {
   "codemirror_mode": {
    "name": "ipython",
    "version": 3
   },
   "file_extension": ".py",
   "mimetype": "text/x-python",
   "name": "python",
   "nbconvert_exporter": "python",
   "pygments_lexer": "ipython3",
   "version": "3.6.12"
  },
  "widgets": {
   "application/vnd.jupyter.widget-state+json": {
    "state": {},
    "version_major": 2,
    "version_minor": 0
   }
  }
 },
 "nbformat": 4,
 "nbformat_minor": 5
}
