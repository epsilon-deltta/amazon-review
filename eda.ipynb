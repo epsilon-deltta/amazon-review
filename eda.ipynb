{
 "cells": [
  {
   "cell_type": "code",
   "execution_count": 1,
   "id": "signal-catering",
   "metadata": {},
   "outputs": [],
   "source": [
    "import os"
   ]
  },
  {
   "cell_type": "code",
   "execution_count": 2,
   "id": "gross-albany",
   "metadata": {},
   "outputs": [],
   "source": [
    "import pandas as pd\n",
    "import numpy as np\n",
    "import seaborn as sns\n",
    "import matplotlib.pyplot as plt"
   ]
  },
  {
   "cell_type": "markdown",
   "id": "directed-adoption",
   "metadata": {},
   "source": [
    "1. Training Set Construction (5 pts)\n",
    "Construct the training set for the amazon review dataset as instructed and report the following statistics.\n",
    "Statistics\n",
    "\n",
    "- the total number of unique words in T\n",
    "    : 22764 #len(token.word_index)\n",
    "- the total number of training examples in T  \n",
    "    : 2000  #len(df)\n",
    "- the ratio of positive examples to negative examples in T   \n",
    "    : 1:1   #len(poslist)/len(neglist)\n",
    "- the average length of document in T   \n",
    "    : 168.915\n",
    "- the max length of document in T\n",
    "    : 3394"
   ]
  },
  {
   "cell_type": "code",
   "execution_count": 3,
   "id": "annual-representation",
   "metadata": {},
   "outputs": [],
   "source": [
    "path     = './data/'\n",
    "testdir  = path + 'test/'\n",
    "traindir = path + 'train/'"
   ]
  },
  {
   "cell_type": "code",
   "execution_count": 6,
   "id": "breeding-capitol",
   "metadata": {},
   "outputs": [],
   "source": [
    "df = pd.DataFrame(columns = ['n','review','target'])"
   ]
  },
  {
   "cell_type": "code",
   "execution_count": 4,
   "id": "minor-journey",
   "metadata": {},
   "outputs": [],
   "source": [
    "path = './data/train/'\n",
    "\n",
    "label = 'positive'\n",
    "\n",
    "poslist = [ os.path.join(path,label,name) for name in os.listdir(path+label) ]\n",
    "\n",
    "label = 'negative' \n",
    "neglist = [ os.path.join(path,label,name) for name in os.listdir(path+label) ]"
   ]
  },
  {
   "cell_type": "code",
   "execution_count": 7,
   "id": "sporting-simon",
   "metadata": {},
   "outputs": [],
   "source": [
    "sep = os.path.sep\n",
    "\n",
    "for fpath in poslist :\n",
    "    num = fpath.split(sep)[-1]\n",
    "    with open(fpath,'r') as f :\n",
    "        content = f.read()\n",
    "        \n",
    "    item = dict(zip(df.columns,[num,content,1] ) )\n",
    "    df = df.append(item,ignore_index=True)\n",
    "\n",
    "for fpath in neglist :\n",
    "    num = fpath.split(sep)[-1]\n",
    "    with open(fpath,'r') as f :\n",
    "        content = f.read()\n",
    "        \n",
    "    item = dict(zip(df.columns,[num,content,0] ) )\n",
    "    df = df.append(item,ignore_index=True)"
   ]
  },
  {
   "cell_type": "code",
   "execution_count": 8,
   "id": "variable-pursuit",
   "metadata": {},
   "outputs": [],
   "source": [
    "posRatio = len(poslist)/len(neglist)"
   ]
  },
  {
   "cell_type": "code",
   "execution_count": 9,
   "id": "peripheral-sender",
   "metadata": {},
   "outputs": [
    {
     "data": {
      "text/plain": [
       "(1.0, 2000)"
      ]
     },
     "execution_count": 9,
     "metadata": {},
     "output_type": "execute_result"
    }
   ],
   "source": [
    "posRatio , len(df)"
   ]
  },
  {
   "cell_type": "code",
   "execution_count": 10,
   "id": "distant-material",
   "metadata": {},
   "outputs": [],
   "source": [
    "from tensorflow.keras.preprocessing.text import text_to_word_sequence,Tokenizer\n",
    "\n",
    "from keras.preprocessing import text\n",
    "\n",
    "from keras.utils import to_categorical as tc"
   ]
  },
  {
   "cell_type": "code",
   "execution_count": 11,
   "id": "requested-generator",
   "metadata": {},
   "outputs": [],
   "source": [
    "token = Tokenizer()             # 토큰화 함수 지정\n",
    "token.fit_on_texts(df.review)       # 토큰화 함수에 문장 적용"
   ]
  },
  {
   "cell_type": "code",
   "execution_count": 12,
   "id": "strong-shooting",
   "metadata": {},
   "outputs": [
    {
     "data": {
      "text/plain": [
       "22764"
      ]
     },
     "execution_count": 12,
     "metadata": {},
     "output_type": "execute_result"
    }
   ],
   "source": [
    "len(token.word_index)"
   ]
  },
  {
   "cell_type": "code",
   "execution_count": 13,
   "id": "compatible-mechanism",
   "metadata": {},
   "outputs": [],
   "source": [
    "docs =  token.texts_to_sequences(df.review)"
   ]
  },
  {
   "cell_type": "code",
   "execution_count": 14,
   "id": "academic-replacement",
   "metadata": {},
   "outputs": [],
   "source": [
    "# the average length of document in T\n",
    "counts = []\n",
    "for doc in docs:\n",
    "    counts.append(len(doc))"
   ]
  },
  {
   "cell_type": "code",
   "execution_count": 15,
   "id": "configured-mobile",
   "metadata": {},
   "outputs": [
    {
     "data": {
      "text/plain": [
       "168.915"
      ]
     },
     "execution_count": 15,
     "metadata": {},
     "output_type": "execute_result"
    }
   ],
   "source": [
    "np.mean(counts)"
   ]
  },
  {
   "cell_type": "code",
   "execution_count": 17,
   "id": "regional-counter",
   "metadata": {},
   "outputs": [],
   "source": [
    "import pickle as pk\n",
    "with open('data/df.pkl','wb') as f:\n",
    "    pk.dump(df,f)"
   ]
  },
  {
   "cell_type": "markdown",
   "id": "elect-trinidad",
   "metadata": {},
   "source": [
    "2. Performance of deep neural network for classification (20 pts)\n",
    "Suggested hyperparameters: \n",
    "\t\n",
    "Data processing: \n",
    "- Word embedding dimension: 100\n",
    "- Word Index: keep the most frequent 10k words\n",
    "\n",
    "CNN\n",
    "- Network: Word embedding lookup layer -> 1D CNN layer -> fully connected layer -> output prediction\n",
    "- Number of filters: 100\n",
    "- Filter length: 3\n",
    "- CNN Activation: Relu\n",
    "- Fully connected layer dimension 100, activation: None (i.e. this layer is linear)\n",
    "\n",
    "RNN:\n",
    "- Network: Word embedding lookup layer -> LSTM layer -> fully connected layer(on the hidden state of the last LSTM cell) -> output prediction\n",
    "- Hidden dimension for LSTM cell: 100\n",
    "- Activation for LSTM cell: tanh\n",
    "- Fully connected layer dimension 100, activation: None (i.e. this layer is linear)"
   ]
  },
  {
   "cell_type": "code",
   "execution_count": 133,
   "id": "early-particle",
   "metadata": {},
   "outputs": [
    {
     "data": {
      "text/plain": [
       "{'whiskers': [<matplotlib.lines.Line2D at 0x1b3ff32c860>,\n",
       "  <matplotlib.lines.Line2D at 0x1b3ff32cb00>],\n",
       " 'caps': [<matplotlib.lines.Line2D at 0x1b3ff32ce10>,\n",
       "  <matplotlib.lines.Line2D at 0x1b3ff33e128>],\n",
       " 'boxes': [<matplotlib.lines.Line2D at 0x1b3ff32c5f8>],\n",
       " 'medians': [<matplotlib.lines.Line2D at 0x1b3ff33e400>],\n",
       " 'fliers': [<matplotlib.lines.Line2D at 0x1b3ff33e6d8>],\n",
       " 'means': []}"
      ]
     },
     "execution_count": 133,
     "metadata": {},
     "output_type": "execute_result"
    },
    {
     "data": {
      "image/png": "[encoded data removed]",
      "text/plain": [
       "<Figure size 432x288 with 1 Axes>"
      ]
     },
     "metadata": {
      "needs_background": "light"
     },
     "output_type": "display_data"
    }
   ],
   "source": [
    "plt.boxplot(counts)"
   ]
  },
  {
   "cell_type": "code",
   "execution_count": 22,
   "id": "racial-norway",
   "metadata": {},
   "outputs": [
    {
     "data": {
      "text/html": [
       "<div>\n",
       "<style scoped>\n",
       "    .dataframe tbody tr th:only-of-type {\n",
       "        vertical-align: middle;\n",
       "    }\n",
       "\n",
       "    .dataframe tbody tr th {\n",
       "        vertical-align: top;\n",
       "    }\n",
       "\n",
       "    .dataframe thead th {\n",
       "        text-align: right;\n",
       "    }\n",
       "</style>\n",
       "<table border=\"1\" class=\"dataframe\">\n",
       "  <thead>\n",
       "    <tr style=\"text-align: right;\">\n",
       "      <th></th>\n",
       "      <th>0</th>\n",
       "    </tr>\n",
       "  </thead>\n",
       "  <tbody>\n",
       "    <tr>\n",
       "      <th>count</th>\n",
       "      <td>2000.000000</td>\n",
       "    </tr>\n",
       "    <tr>\n",
       "      <th>mean</th>\n",
       "      <td>168.915000</td>\n",
       "    </tr>\n",
       "    <tr>\n",
       "      <th>std</th>\n",
       "      <td>186.859878</td>\n",
       "    </tr>\n",
       "    <tr>\n",
       "      <th>min</th>\n",
       "      <td>9.000000</td>\n",
       "    </tr>\n",
       "    <tr>\n",
       "      <th>25%</th>\n",
       "      <td>65.000000</td>\n",
       "    </tr>\n",
       "    <tr>\n",
       "      <th>50%</th>\n",
       "      <td>117.000000</td>\n",
       "    </tr>\n",
       "    <tr>\n",
       "      <th>75%</th>\n",
       "      <td>201.000000</td>\n",
       "    </tr>\n",
       "    <tr>\n",
       "      <th>max</th>\n",
       "      <td>3394.000000</td>\n",
       "    </tr>\n",
       "  </tbody>\n",
       "</table>\n",
       "</div>"
      ],
      "text/plain": [
       "                 0\n",
       "count  2000.000000\n",
       "mean    168.915000\n",
       "std     186.859878\n",
       "min       9.000000\n",
       "25%      65.000000\n",
       "50%     117.000000\n",
       "75%     201.000000\n",
       "max    3394.000000"
      ]
     },
     "execution_count": 22,
     "metadata": {},
     "output_type": "execute_result"
    }
   ],
   "source": [
    "pd.DataFrame(counts).describe()"
   ]
  },
  {
   "cell_type": "code",
   "execution_count": 25,
   "id": "insured-acoustic",
   "metadata": {},
   "outputs": [
    {
     "name": "stdout",
     "output_type": "stream",
     "text": [
      "including ratio : 0.9255\n"
     ]
    }
   ],
   "source": [
    "size = 400\n",
    "total = len(counts)\n",
    "i = 0 \n",
    "for x in counts:\n",
    "    if x < size:\n",
    "        i += 1\n",
    "print(\"including ratio :\",i/total)"
   ]
  },
  {
   "cell_type": "code",
   "execution_count": null,
   "id": "placed-bryan",
   "metadata": {},
   "outputs": [],
   "source": [
    "token.fit"
   ]
  },
  {
   "cell_type": "code",
   "execution_count": 32,
   "id": "certain-issue",
   "metadata": {},
   "outputs": [],
   "source": [
    "# - Word Index: keep the most frequent 10k words\n",
    "vocab_size = 10000\n",
    "token = Tokenizer(num_words = vocab_size + 1) # 상위 10000개 단어만 사용\n",
    "token.fit_on_texts(df.review)\n",
    "docs   = token.texts_to_sequences(df.review)"
   ]
  },
  {
   "cell_type": "code",
   "execution_count": 34,
   "id": "everyday-bulgaria",
   "metadata": {},
   "outputs": [],
   "source": [
    "from tensorflow.keras.preprocessing.sequence import pad_sequences"
   ]
  },
  {
   "cell_type": "code",
   "execution_count": 36,
   "id": "joined-headline",
   "metadata": {},
   "outputs": [],
   "source": [
    "# 데이터 전처리\n",
    "max_len = 400\n",
    "xtr = pad_sequences(docs, maxlen=max_len)\n",
    "# xte = sequence.pad_sequences(X_test, maxlen=max_len)"
   ]
  }
 ],
 "metadata": {
  "kernelspec": {
   "display_name": "kera",
   "language": "python",
   "name": "kera"
  },
  "language_info": {
   "codemirror_mode": {
    "name": "ipython",
    "version": 3
   },
   "file_extension": ".py",
   "mimetype": "text/x-python",
   "name": "python",
   "nbconvert_exporter": "python",
   "pygments_lexer": "ipython3",
   "version": "3.6.12"
  },
  "widgets": {
   "application/vnd.jupyter.widget-state+json": {
    "state": {},
    "version_major": 2,
    "version_minor": 0
   }
  }
 },
 "nbformat": 4,
 "nbformat_minor": 5
}
