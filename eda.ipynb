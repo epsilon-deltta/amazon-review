{
 "cells": [
  {
   "cell_type": "markdown",
   "id": "instructional-cameroon",
   "metadata": {
    "colab_type": "text",
    "id": "view-in-github"
   },
   "source": [
    "<a href=\"https://colab.research.google.com/github/epsilon-deltta/amazon-review/blob/master/eda.ipynb\" target=\"_parent\"><img src=\"https://colab.research.google.com/assets/colab-badge.svg\" alt=\"Open In Colab\"/></a>"
   ]
  },
  {
   "cell_type": "code",
   "execution_count": 1,
   "id": "still-party",
   "metadata": {
    "id": "exact-notebook"
   },
   "outputs": [],
   "source": [
    "import os"
   ]
  },
  {
   "cell_type": "code",
   "execution_count": 2,
   "id": "engaging-opera",
   "metadata": {
    "id": "prescribed-ghana"
   },
   "outputs": [],
   "source": [
    "import pandas as pd\n",
    "import numpy as np\n",
    "import seaborn as sns\n",
    "import matplotlib.pyplot as plt"
   ]
  },
  {
   "cell_type": "markdown",
   "id": "fluid-contemporary",
   "metadata": {
    "id": "institutional-workplace"
   },
   "source": [
    "1. Training Set Construction (5 pts)\n",
    "Construct the training set for the amazon review dataset as instructed and report the following statistics.\n",
    "Statistics\n",
    "\n",
    "- the total number of unique words in T\n",
    "    : 22764 #len(token.word_index)\n",
    "- the total number of training examples in T  \n",
    "    : 2000  #len(df)\n",
    "- the ratio of positive examples to negative examples in T   \n",
    "    : 1:1   #len(poslist)/len(neglist)\n",
    "- the average length of document in T   \n",
    "    : 168.915\n",
    "- the max length of document in T\n",
    "    : 3394"
   ]
  },
  {
   "cell_type": "code",
   "execution_count": null,
   "id": "anonymous-edgar",
   "metadata": {
    "id": "graduate-investment"
   },
   "outputs": [],
   "source": [
    "# df,tedf = load_data()\n",
    "def load_data():\n",
    "    pass\n",
    "def preprocess(review):\n",
    "    pass\n",
    "# df.review = preprocess(df.review)"
   ]
  },
  {
   "cell_type": "markdown",
   "id": "expired-being",
   "metadata": {
    "id": "prospective-transparency"
   },
   "source": [
    "#### load data"
   ]
  },
  {
   "cell_type": "code",
   "execution_count": null,
   "id": "yellow-video",
   "metadata": {
    "id": "continuous-ozone"
   },
   "outputs": [],
   "source": [
    "# in colab\n",
    "!git clone https://github.com/epsilon-deltta/dataset data\n",
    "path = './data/amazon-review/'"
   ]
  },
  {
   "cell_type": "code",
   "execution_count": 3,
   "id": "quiet-exposure",
   "metadata": {
    "id": "ethical-harbor"
   },
   "outputs": [],
   "source": [
    "# in local\n",
    "path     = './data/'"
   ]
  },
  {
   "cell_type": "code",
   "execution_count": 5,
   "id": "demanding-substance",
   "metadata": {
    "id": "ethical-harbor"
   },
   "outputs": [],
   "source": [
    "def load_data(path='./data/'):\n",
    "    testdir  = path + 'test/'\n",
    "    traindir = path + 'train/'\n",
    "\n",
    "    df = [ pd.DataFrame(columns = ['n','review','target']) for _ in range(2)]\n",
    "\n",
    "    for i,path in enumerate([traindir,testdir]):\n",
    "        path = path\n",
    "        label = 'positive'\n",
    "\n",
    "        poslist = [ os.path.join(path,label,name) for name in os.listdir(path+label) ]\n",
    "\n",
    "        label = 'negative' \n",
    "        neglist = [ os.path.join(path,label,name) for name in os.listdir(path+label) ]\n",
    "\n",
    "        sep = os.path.sep\n",
    "\n",
    "        for fpath in poslist :\n",
    "            num = fpath.split(sep)[-1]\n",
    "            with open(fpath,'r') as f :\n",
    "                content = f.read()\n",
    "\n",
    "            item = dict(zip(df[i].columns,[num,content,1] ) )\n",
    "            df[i] = df[i].append(item,ignore_index=True)\n",
    "\n",
    "        for fpath in neglist :\n",
    "            num = fpath.split(sep)[-1]\n",
    "            with open(fpath,'r') as f :\n",
    "                content = f.read()\n",
    "\n",
    "            item = dict(zip(df[i].columns,[num,content,0] ) )\n",
    "            df[i] = df[i].append(item,ignore_index=True)\n",
    "    return df[0].review,df[0].target,df[1].review,df[1].target\n",
    "\n",
    "xtr,ytr,xte,yte = load_data(path)"
   ]
  },
  {
   "cell_type": "markdown",
   "id": "raised-melbourne",
   "metadata": {
    "id": "expressed-abraham"
   },
   "source": [
    "#### count words "
   ]
  },
  {
   "cell_type": "code",
   "execution_count": 6,
   "id": "starting-filter",
   "metadata": {
    "id": "higher-unemployment"
   },
   "outputs": [],
   "source": [
    "from tensorflow.keras.preprocessing.text import text_to_word_sequence,Tokenizer\n",
    "\n",
    "from keras.preprocessing import text\n",
    "\n",
    "from keras.utils import to_categorical as tc"
   ]
  },
  {
   "cell_type": "code",
   "execution_count": 8,
   "id": "elegant-audit",
   "metadata": {
    "id": "stainless-growth"
   },
   "outputs": [],
   "source": [
    "token = Tokenizer()             # 토큰화 함수 지정\n",
    "token.fit_on_texts(xtr)       # 토큰화 함수에 문장 적용"
   ]
  },
  {
   "cell_type": "code",
   "execution_count": null,
   "id": "governmental-dating",
   "metadata": {
    "id": "clear-intake"
   },
   "outputs": [],
   "source": [
    "docs =  token.texts_to_sequences(xtr)"
   ]
  },
  {
   "cell_type": "code",
   "execution_count": null,
   "id": "documentary-guyana",
   "metadata": {
    "id": "promotional-diploma"
   },
   "outputs": [],
   "source": [
    "# the average length of document in T\n",
    "counts = []\n",
    "for doc in docs:\n",
    "    counts.append(len(doc))"
   ]
  },
  {
   "cell_type": "code",
   "execution_count": null,
   "id": "future-champion",
   "metadata": {
    "id": "celtic-protocol",
    "outputId": "be8b94d9-540b-4fb2-fdf8-c9f7b2d549d3"
   },
   "outputs": [
    {
     "data": {
      "text/plain": [
       "168.915"
      ]
     },
     "execution_count": 15,
     "metadata": {
      "tags": []
     },
     "output_type": "execute_result"
    }
   ],
   "source": [
    "np.mean(counts)"
   ]
  },
  {
   "cell_type": "code",
   "execution_count": null,
   "id": "needed-cleaners",
   "metadata": {
    "id": "standing-hopkins"
   },
   "outputs": [],
   "source": [
    "import pickle as pk\n",
    "with open('data/df.pkl','wb') as f:\n",
    "    pk.dump(df,f)"
   ]
  },
  {
   "cell_type": "markdown",
   "id": "mental-divide",
   "metadata": {
    "id": "driving-silicon"
   },
   "source": [
    "2. Performance of deep neural network for classification (20 pts)\n",
    "Suggested hyperparameters: \n",
    "\t\n",
    "Data processing: \n",
    "- Word embedding dimension: 100\n",
    "- Word Index: keep the most frequent 10k words\n",
    "\n",
    "CNN\n",
    "- Network: Word embedding lookup layer -> 1D CNN layer -> fully connected layer -> output prediction\n",
    "- Number of filters: 100\n",
    "- Filter length: 3\n",
    "- CNN Activation: Relu\n",
    "- Fully connected layer dimension 100, activation: None (i.e. this layer is linear)\n",
    "\n",
    "RNN:\n",
    "- Network: Word embedding lookup layer -> LSTM layer -> fully connected layer(on the hidden state of the last LSTM cell) -> output prediction\n",
    "- Hidden dimension for LSTM cell: 100\n",
    "- Activation for LSTM cell: tanh\n",
    "- Fully connected layer dimension 100, activation: None (i.e. this layer is linear)"
   ]
  },
  {
   "cell_type": "code",
   "execution_count": null,
   "id": "wrapped-terminology",
   "metadata": {
    "id": "quarterly-jumping",
    "outputId": "6fc0682b-e258-433f-850d-a290efbaacbf"
   },
   "outputs": [
    {
     "data": {
      "text/plain": [
       "{'whiskers': [<matplotlib.lines.Line2D at 0x1b3ff32c860>,\n",
       "  <matplotlib.lines.Line2D at 0x1b3ff32cb00>],\n",
       " 'caps': [<matplotlib.lines.Line2D at 0x1b3ff32ce10>,\n",
       "  <matplotlib.lines.Line2D at 0x1b3ff33e128>],\n",
       " 'boxes': [<matplotlib.lines.Line2D at 0x1b3ff32c5f8>],\n",
       " 'medians': [<matplotlib.lines.Line2D at 0x1b3ff33e400>],\n",
       " 'fliers': [<matplotlib.lines.Line2D at 0x1b3ff33e6d8>],\n",
       " 'means': []}"
      ]
     },
     "execution_count": 133,
     "metadata": {
      "tags": []
     },
     "output_type": "execute_result"
    },
    {
     "data": {
      "image/png": "[encoded data removed]",
      "text/plain": [
       "<Figure size 432x288 with 1 Axes>"
      ]
     },
     "metadata": {
      "needs_background": "light",
      "tags": []
     },
     "output_type": "display_data"
    }
   ],
   "source": [
    "plt.boxplot(counts)"
   ]
  },
  {
   "cell_type": "code",
   "execution_count": null,
   "id": "adolescent-mercury",
   "metadata": {
    "id": "standing-donna",
    "outputId": "6eb976c4-4b06-436d-b187-0625a72d026c"
   },
   "outputs": [
    {
     "data": {
      "text/html": [
       "<div>\n",
       "<style scoped>\n",
       "    .dataframe tbody tr th:only-of-type {\n",
       "        vertical-align: middle;\n",
       "    }\n",
       "\n",
       "    .dataframe tbody tr th {\n",
       "        vertical-align: top;\n",
       "    }\n",
       "\n",
       "    .dataframe thead th {\n",
       "        text-align: right;\n",
       "    }\n",
       "</style>\n",
       "<table border=\"1\" class=\"dataframe\">\n",
       "  <thead>\n",
       "    <tr style=\"text-align: right;\">\n",
       "      <th></th>\n",
       "      <th>0</th>\n",
       "    </tr>\n",
       "  </thead>\n",
       "  <tbody>\n",
       "    <tr>\n",
       "      <th>count</th>\n",
       "      <td>2000.000000</td>\n",
       "    </tr>\n",
       "    <tr>\n",
       "      <th>mean</th>\n",
       "      <td>168.915000</td>\n",
       "    </tr>\n",
       "    <tr>\n",
       "      <th>std</th>\n",
       "      <td>186.859878</td>\n",
       "    </tr>\n",
       "    <tr>\n",
       "      <th>min</th>\n",
       "      <td>9.000000</td>\n",
       "    </tr>\n",
       "    <tr>\n",
       "      <th>25%</th>\n",
       "      <td>65.000000</td>\n",
       "    </tr>\n",
       "    <tr>\n",
       "      <th>50%</th>\n",
       "      <td>117.000000</td>\n",
       "    </tr>\n",
       "    <tr>\n",
       "      <th>75%</th>\n",
       "      <td>201.000000</td>\n",
       "    </tr>\n",
       "    <tr>\n",
       "      <th>max</th>\n",
       "      <td>3394.000000</td>\n",
       "    </tr>\n",
       "  </tbody>\n",
       "</table>\n",
       "</div>"
      ],
      "text/plain": [
       "                 0\n",
       "count  2000.000000\n",
       "mean    168.915000\n",
       "std     186.859878\n",
       "min       9.000000\n",
       "25%      65.000000\n",
       "50%     117.000000\n",
       "75%     201.000000\n",
       "max    3394.000000"
      ]
     },
     "execution_count": 22,
     "metadata": {
      "tags": []
     },
     "output_type": "execute_result"
    }
   ],
   "source": [
    "pd.DataFrame(counts).describe()"
   ]
  },
  {
   "cell_type": "code",
   "execution_count": null,
   "id": "ranking-tamil",
   "metadata": {
    "id": "cloudy-beverage",
    "outputId": "8bebe66c-be23-4c42-cc03-5a3d0f9b23aa"
   },
   "outputs": [
    {
     "name": "stdout",
     "output_type": "stream",
     "text": [
      "including ratio : 0.9255\n"
     ]
    }
   ],
   "source": [
    "size = 400\n",
    "total = len(counts)\n",
    "i = 0 \n",
    "for x in counts:\n",
    "    if x < size:\n",
    "        i += 1\n",
    "print(\"including ratio :\",i/total)"
   ]
  },
  {
   "cell_type": "markdown",
   "id": "intellectual-reach",
   "metadata": {
    "id": "heated-candle"
   },
   "source": [
    "#### tokenizing "
   ]
  },
  {
   "cell_type": "code",
   "execution_count": 9,
   "id": "forward-terminology",
   "metadata": {
    "id": "unsigned-coast"
   },
   "outputs": [],
   "source": [
    "# - Word Index: keep the most frequent 10k words\n",
    "vocab_size = 10000\n",
    "token = Tokenizer(num_words = vocab_size + 1) # 상위 10000개 단어만 사용\n",
    "\n",
    "token.fit_on_texts(xtr)"
   ]
  },
  {
   "cell_type": "code",
   "execution_count": 10,
   "id": "valid-dakota",
   "metadata": {
    "id": "novel-render"
   },
   "outputs": [],
   "source": [
    "max_len = 400\n",
    "def preprocess(docs,token,max_len=400):\n",
    "    docs = token.texts_to_sequences(docs)\n",
    "    \n",
    "    from tensorflow.keras.preprocessing.sequence import pad_sequences\n",
    "    docs = pad_sequences(docs, maxlen=max_len)\n",
    "    \n",
    "    return docs\n",
    "\n",
    "xtr = preprocess(xtr,token)\n",
    "xte = preprocess(xte,token)"
   ]
  },
  {
   "cell_type": "markdown",
   "id": "blank-resistance",
   "metadata": {
    "id": "solar-value"
   },
   "source": [
    "Let me make Embedding Matrix !! "
   ]
  },
  {
   "cell_type": "code",
   "execution_count": 11,
   "id": "emerging-arrow",
   "metadata": {
    "id": "controlled-method"
   },
   "outputs": [],
   "source": [
    "# - Word embedding dimension: 100\n",
    "# vocab_size  = token.num_words # 10000+ 1 \n",
    "vector_size = 100  #100\n",
    "vocab_size = 10001\n",
    "\n",
    "def get_emb_mtr():\n",
    "    wv = pd.read_csv(path+'all.review.vec.txt',sep=' ',skiprows=1,header=None)\n",
    "\n",
    "    wv.set_index(0,inplace=True)\n",
    "    del wv[101]\n",
    "\n",
    "\n",
    "    embedding_matrix = np.zeros((vocab_size, vector_size))\n",
    "\n",
    "    def get_vector(word):\n",
    "        if word in wv.index:\n",
    "            return wv.loc[word]\n",
    "        else:\n",
    "            return None\n",
    "\n",
    "    num = 0\n",
    "    word_index = [( i,word) for i,word in token.index_word.items()][:10000]\n",
    "    # not_used = []\n",
    "    for i,word in word_index: \n",
    "        temp = get_vector(word)\n",
    "        if temp is not None: \n",
    "\n",
    "            embedding_matrix[i] = temp # 해당 단어 위치의 행에 벡터의 값을 저장한다.\n",
    "    #     else :\n",
    "    #         not_used.append(word)\n",
    "    #         num+=1\n",
    "    return embedding_matrix\n",
    "\n",
    "embedding_matrix = get_emb_mtr()"
   ]
  },
  {
   "cell_type": "markdown",
   "id": "hydraulic-family",
   "metadata": {},
   "source": [
    "#### Models "
   ]
  },
  {
   "cell_type": "code",
   "execution_count": 12,
   "id": "parliamentary-chocolate",
   "metadata": {
    "id": "optional-first"
   },
   "outputs": [],
   "source": [
    "from keras.datasets import mnist\n",
    "from keras.utils import np_utils\n",
    "from keras.models import Sequential\n",
    "from keras.layers import Dense, Flatten  \n",
    "\n",
    "from keras.layers import Conv2D,MaxPooling1D,MaxPooling2D ,Conv1D\n",
    "\n",
    "from keras.layers import Dropout\n",
    "from keras.layers import Embedding , LSTM\n",
    "\n",
    "from keras.callbacks import ModelCheckpoint,EarlyStopping"
   ]
  },
  {
   "cell_type": "code",
   "execution_count": 14,
   "id": "comic-means",
   "metadata": {},
   "outputs": [],
   "source": [
    "xtr = xtr.astype('float')\n",
    "xte = xte.astype('float')\n",
    "ytr = ytr.astype('float')\n",
    "yte = yte.astype('float')"
   ]
  },
  {
   "cell_type": "code",
   "execution_count": 126,
   "id": "affecting-court",
   "metadata": {},
   "outputs": [],
   "source": [
    "# cnn w/o pre-emb\n",
    "model0 = Sequential()\n",
    "e = Embedding(vocab_size, vector_size)\n",
    "model0.add(e)\n",
    "model0.add(Conv1D(100, 3, padding='valid', activation='relu',strides=1))\n",
    "model0.add(Dense(100))\n",
    "model0.add(Dense(1,activation='sigmoid'))\n",
    "# model1.add(MaxPooling1D(pool_size=4))\n",
    "model0.compile(optimizer='adam', loss='binary_crossentropy', metrics=['acc'])"
   ]
  },
  {
   "cell_type": "code",
   "execution_count": 127,
   "id": "spanish-input",
   "metadata": {
    "id": "medieval-component"
   },
   "outputs": [],
   "source": [
    "# cnn w/ pretrained model\n",
    "model1 = Sequential()\n",
    "e = Embedding(vocab_size, vector_size, weights=[embedding_matrix], input_length=max_len, trainable=False)\n",
    "model1.add(e)\n",
    "# model1.add(Flatten())\n",
    "# model.add(Dropout(0.5)) \n",
    "model1.add(Conv1D(100, 3, padding='valid', activation='relu',strides=1))\n",
    "model1.add(Dense(100))\n",
    "model1.add(Dense(1,activation='sigmoid'))\n",
    "# model1.add(MaxPooling1D(pool_size=4))\n",
    "# model1.add(LSTM(55))\n",
    "model1.compile(optimizer='adam', loss='binary_crossentropy', metrics=['acc'])"
   ]
  },
  {
   "cell_type": "code",
   "execution_count": 128,
   "id": "detailed-russell",
   "metadata": {
    "id": "unlike-silver"
   },
   "outputs": [],
   "source": [
    "# lstm model w/ pre-emb\n",
    "model2 = Sequential()\n",
    "e = Embedding(vocab_size, vector_size, weights=[embedding_matrix], input_length=max_len, trainable=False)\n",
    "model2.add(e)\n",
    "model2.add(LSTM(100,activation='tanh'))\n",
    "# model.add(Dropout(0.5))\n",
    "model2.add(Dense(100))\n",
    "model2.add(Dense(1,activation='sigmoid'))\n",
    "\n",
    "model2.compile(optimizer='adam', loss='binary_crossentropy', metrics=['acc'])"
   ]
  },
  {
   "cell_type": "code",
   "execution_count": 129,
   "id": "revolutionary-theta",
   "metadata": {
    "id": "unlike-silver"
   },
   "outputs": [],
   "source": [
    "# lstm model w/o pre-emb\n",
    "model3 = Sequential()\n",
    "e = Embedding(vocab_size, vector_size)\n",
    "model3.add(e)\n",
    "model3.add(LSTM(100,activation='tanh'))\n",
    "# model.add(Dropout(0.5))\n",
    "model3.add(Dense(100))\n",
    "model3.add(Dense(1,activation='sigmoid'))\n",
    "\n",
    "model3.compile(optimizer='adam', loss='binary_crossentropy', metrics=['acc'])"
   ]
  },
  {
   "cell_type": "code",
   "execution_count": 130,
   "id": "decreased-acceptance",
   "metadata": {},
   "outputs": [
    {
     "name": "stdout",
     "output_type": "stream",
     "text": [
      "Epoch 1/3\n",
      "20/20 [==============================] - ETA: 0s - loss: 0.6939 - acc: 0.5011\n",
      "Epoch 00001: val_loss improved from inf to 0.69296, saving model to ./model0/01-0.6930.hdf5\n",
      "20/20 [==============================] - 4s 205ms/step - loss: 0.6939 - acc: 0.5011 - val_loss: 0.6930 - val_acc: 0.5209\n",
      "Epoch 2/3\n",
      "20/20 [==============================] - ETA: 0s - loss: 0.6902 - acc: 0.5329\n",
      "Epoch 00002: val_loss improved from 0.69296 to 0.68868, saving model to ./model0/02-0.6887.hdf5\n",
      "20/20 [==============================] - 4s 185ms/step - loss: 0.6902 - acc: 0.5329 - val_loss: 0.6887 - val_acc: 0.5270\n",
      "Epoch 3/3\n",
      "20/20 [==============================] - ETA: 0s - loss: 0.6816 - acc: 0.5332\n",
      "Epoch 00003: val_loss improved from 0.68868 to 0.68691, saving model to ./model0/03-0.6869.hdf5\n",
      "20/20 [==============================] - 4s 188ms/step - loss: 0.6816 - acc: 0.5332 - val_loss: 0.6869 - val_acc: 0.5301\n",
      "Epoch 1/3\n",
      "20/20 [==============================] - ETA: 0s - loss: 0.6923 - acc: 0.4974\n",
      "Epoch 00001: val_loss improved from inf to 0.69758, saving model to ./model1/01-0.6976.hdf5\n",
      "20/20 [==============================] - 3s 155ms/step - loss: 0.6923 - acc: 0.4974 - val_loss: 0.6976 - val_acc: 0.5084\n",
      "Epoch 2/3\n",
      "20/20 [==============================] - ETA: 0s - loss: 0.6914 - acc: 0.5204\n",
      "Epoch 00002: val_loss improved from 0.69758 to 0.68828, saving model to ./model1/02-0.6883.hdf5\n",
      "20/20 [==============================] - 3s 143ms/step - loss: 0.6914 - acc: 0.5204 - val_loss: 0.6883 - val_acc: 0.5257\n",
      "Epoch 3/3\n",
      "20/20 [==============================] - ETA: 0s - loss: 0.6860 - acc: 0.5332\n",
      "Epoch 00003: val_loss improved from 0.68828 to 0.68581, saving model to ./model1/03-0.6858.hdf5\n",
      "20/20 [==============================] - 3s 146ms/step - loss: 0.6860 - acc: 0.5332 - val_loss: 0.6858 - val_acc: 0.5317\n",
      "Epoch 1/3\n",
      "20/20 [==============================] - ETA: 0s - loss: 0.6563 - acc: 0.6210\n",
      "Epoch 00001: val_loss improved from inf to 0.53330, saving model to ./model2/01-0.5333.hdf5\n",
      "20/20 [==============================] - 18s 876ms/step - loss: 0.6563 - acc: 0.6210 - val_loss: 0.5333 - val_acc: 0.7370\n",
      "Epoch 2/3\n",
      "20/20 [==============================] - ETA: 0s - loss: 0.5009 - acc: 0.7660\n",
      "Epoch 00002: val_loss improved from 0.53330 to 0.48485, saving model to ./model2/02-0.4849.hdf5\n",
      "20/20 [==============================] - 17s 831ms/step - loss: 0.5009 - acc: 0.7660 - val_loss: 0.4849 - val_acc: 0.7710\n",
      "Epoch 3/3\n",
      "20/20 [==============================] - ETA: 0s - loss: 0.4717 - acc: 0.7860\n",
      "Epoch 00003: val_loss did not improve from 0.48485\n",
      "20/20 [==============================] - 17s 862ms/step - loss: 0.4717 - acc: 0.7860 - val_loss: 0.4974 - val_acc: 0.7850\n",
      "Epoch 1/3\n",
      "20/20 [==============================] - ETA: 0s - loss: 0.6840 - acc: 0.5730\n",
      "Epoch 00001: val_loss improved from inf to 0.63178, saving model to ./model3/01-0.6318.hdf5\n",
      "20/20 [==============================] - 23s 1s/step - loss: 0.6840 - acc: 0.5730 - val_loss: 0.6318 - val_acc: 0.6330\n",
      "Epoch 2/3\n",
      "20/20 [==============================] - ETA: 0s - loss: 0.5877 - acc: 0.7350\n",
      "Epoch 00002: val_loss improved from 0.63178 to 0.60849, saving model to ./model3/02-0.6085.hdf5\n",
      "20/20 [==============================] - 22s 1s/step - loss: 0.5877 - acc: 0.7350 - val_loss: 0.6085 - val_acc: 0.6595\n",
      "Epoch 3/3\n",
      "20/20 [==============================] - ETA: 0s - loss: 0.4648 - acc: 0.8515\n",
      "Epoch 00003: val_loss improved from 0.60849 to 0.53652, saving model to ./model3/03-0.5365.hdf5\n",
      "20/20 [==============================] - 23s 1s/step - loss: 0.4648 - acc: 0.8515 - val_loss: 0.5365 - val_acc: 0.7340\n"
     ]
    }
   ],
   "source": [
    "hists = []\n",
    "for i in range(4):\n",
    "    # callback funcs\n",
    "    import datetime\n",
    "    log_dir = \"logs/model%d/fit/\"%i + datetime.datetime.now().strftime(\"%Y%m%d-%H%M%S\")\n",
    "    tensorboard_callback = tf.keras.callbacks.TensorBoard(log_dir=log_dir, histogram_freq=1)\n",
    "\n",
    "    from tensorflow import keras\n",
    "    from time import time\n",
    "    class timeChecker(keras.callbacks.Callback):\n",
    "        def on_train_begin(self, logs=None):\n",
    "            self.durations = []\n",
    "        def on_epoch_begin(self, epoch, logs=None):\n",
    "            self.start = time()\n",
    "\n",
    "        def on_epoch_end(self, epoch, logs=None):\n",
    "            self.duration = time()-self.start\n",
    "            self.durations.append(self.duration)\n",
    "\n",
    "    tchecker = timeChecker()\n",
    "\n",
    "    from keras.callbacks import ModelCheckpoint,EarlyStopping\n",
    "    # epoch val_accuracy val_loss\n",
    "\n",
    "    MODEL_DIR = './model%d/'%i\n",
    "    if not os.path.exists(MODEL_DIR):\n",
    "        os.mkdir(MODEL_DIR)\n",
    "\n",
    "    modelpath=\"./model%d/{epoch:02d}-{val_loss:.4f}.hdf5\"%i\n",
    "    checkpointer = ModelCheckpoint(filepath=modelpath, monitor='val_loss', verbose=1, save_best_only=True)        \n",
    "\n",
    "\n",
    "    exec('history = model%d.fit(xtr, ytr, batch_size=100, epochs=3, verbose=1,validation_data=(xte, yte) \\\n",
    "               ,callbacks=[tensorboard_callback,tchecker,checkpointer])'%i )\n",
    "    history.history['durations']=tchecker.durations\n",
    "    hists.append(history.history)"
   ]
  },
  {
   "cell_type": "code",
   "execution_count": null,
   "id": "removable-privilege",
   "metadata": {},
   "outputs": [],
   "source": [
    "# %tensorboard --logdir logs/modeln/fit --port 6006"
   ]
  }
 ],
 "metadata": {
  "colab": {
   "include_colab_link": true,
   "name": "eda.ipynb",
   "provenance": []
  },
  "kernelspec": {
   "display_name": "kera",
   "language": "python",
   "name": "kera"
  },
  "language_info": {
   "codemirror_mode": {
    "name": "ipython",
    "version": 3
   },
   "file_extension": ".py",
   "mimetype": "text/x-python",
   "name": "python",
   "nbconvert_exporter": "python",
   "pygments_lexer": "ipython3",
   "version": "3.6.12"
  },
  "widgets": {
   "application/vnd.jupyter.widget-state+json": {
    "state": {},
    "version_major": 2,
    "version_minor": 0
   }
  }
 },
 "nbformat": 4,
 "nbformat_minor": 5
}
