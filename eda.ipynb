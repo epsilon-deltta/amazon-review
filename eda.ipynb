{
 "cells": [
  {
   "cell_type": "code",
   "execution_count": 1,
   "id": "theoretical-belgium",
   "metadata": {},
   "outputs": [],
   "source": [
    "import os"
   ]
  },
  {
   "cell_type": "code",
   "execution_count": 2,
   "id": "standard-gross",
   "metadata": {},
   "outputs": [],
   "source": [
    "import pandas as pd\n",
    "import numpy as np\n",
    "import seaborn as sns\n",
    "import matplotlib.pyplot as plt"
   ]
  },
  {
   "cell_type": "markdown",
   "id": "determined-thinking",
   "metadata": {},
   "source": [
    "1. Training Set Construction (5 pts)\n",
    "Construct the training set for the amazon review dataset as instructed and report the following statistics.\n",
    "Statistics\n",
    "\n",
    "- the total number of unique words in T\n",
    "    : 22764 #len(token.word_index)\n",
    "- the total number of training examples in T  \n",
    "    : 2000  #len(df)\n",
    "- the ratio of positive examples to negative examples in T   \n",
    "    : 1:1   #len(poslist)/len(neglist)\n",
    "- the average length of document in T   \n",
    "    : 168.915\n",
    "- the max length of document in T\n",
    "    : 3394"
   ]
  },
  {
   "cell_type": "code",
   "execution_count": 3,
   "id": "quiet-search",
   "metadata": {},
   "outputs": [],
   "source": [
    "path     = './data/'\n",
    "testdir  = path + 'test/'\n",
    "traindir = path + 'train/'"
   ]
  },
  {
   "cell_type": "code",
   "execution_count": 6,
   "id": "considerable-version",
   "metadata": {},
   "outputs": [],
   "source": [
    "df = pd.DataFrame(columns = ['n','review','target'])"
   ]
  },
  {
   "cell_type": "code",
   "execution_count": 4,
   "id": "other-portable",
   "metadata": {},
   "outputs": [],
   "source": [
    "path = './data/train/'\n",
    "\n",
    "label = 'positive'\n",
    "\n",
    "poslist = [ os.path.join(path,label,name) for name in os.listdir(path+label) ]\n",
    "\n",
    "label = 'negative' \n",
    "neglist = [ os.path.join(path,label,name) for name in os.listdir(path+label) ]"
   ]
  },
  {
   "cell_type": "code",
   "execution_count": 7,
   "id": "banner-victim",
   "metadata": {},
   "outputs": [],
   "source": [
    "sep = os.path.sep\n",
    "\n",
    "for fpath in poslist :\n",
    "    num = fpath.split(sep)[-1]\n",
    "    with open(fpath,'r') as f :\n",
    "        content = f.read()\n",
    "        \n",
    "    item = dict(zip(df.columns,[num,content,1] ) )\n",
    "    df = df.append(item,ignore_index=True)\n",
    "\n",
    "for fpath in neglist :\n",
    "    num = fpath.split(sep)[-1]\n",
    "    with open(fpath,'r') as f :\n",
    "        content = f.read()\n",
    "        \n",
    "    item = dict(zip(df.columns,[num,content,0] ) )\n",
    "    df = df.append(item,ignore_index=True)"
   ]
  },
  {
   "cell_type": "code",
   "execution_count": 8,
   "id": "british-tenant",
   "metadata": {},
   "outputs": [],
   "source": [
    "posRatio = len(poslist)/len(neglist)"
   ]
  },
  {
   "cell_type": "code",
   "execution_count": 9,
   "id": "superior-delivery",
   "metadata": {},
   "outputs": [
    {
     "data": {
      "text/plain": [
       "(1.0, 2000)"
      ]
     },
     "execution_count": 9,
     "metadata": {},
     "output_type": "execute_result"
    }
   ],
   "source": [
    "posRatio , len(df)"
   ]
  },
  {
   "cell_type": "code",
   "execution_count": 10,
   "id": "three-psychology",
   "metadata": {},
   "outputs": [],
   "source": [
    "from tensorflow.keras.preprocessing.text import text_to_word_sequence,Tokenizer\n",
    "\n",
    "from keras.preprocessing import text\n",
    "\n",
    "from keras.utils import to_categorical as tc"
   ]
  },
  {
   "cell_type": "code",
   "execution_count": 11,
   "id": "pointed-perry",
   "metadata": {},
   "outputs": [],
   "source": [
    "token = Tokenizer()             # 토큰화 함수 지정\n",
    "token.fit_on_texts(df.review)       # 토큰화 함수에 문장 적용"
   ]
  },
  {
   "cell_type": "code",
   "execution_count": 12,
   "id": "aquatic-colorado",
   "metadata": {},
   "outputs": [
    {
     "data": {
      "text/plain": [
       "22764"
      ]
     },
     "execution_count": 12,
     "metadata": {},
     "output_type": "execute_result"
    }
   ],
   "source": [
    "len(token.word_index)"
   ]
  },
  {
   "cell_type": "code",
   "execution_count": 13,
   "id": "published-movie",
   "metadata": {},
   "outputs": [],
   "source": [
    "docs =  token.texts_to_sequences(df.review)"
   ]
  },
  {
   "cell_type": "code",
   "execution_count": 14,
   "id": "adequate-leadership",
   "metadata": {},
   "outputs": [],
   "source": [
    "# the average length of document in T\n",
    "counts = []\n",
    "for doc in docs:\n",
    "    counts.append(len(doc))"
   ]
  },
  {
   "cell_type": "code",
   "execution_count": 15,
   "id": "improving-denmark",
   "metadata": {},
   "outputs": [
    {
     "data": {
      "text/plain": [
       "168.915"
      ]
     },
     "execution_count": 15,
     "metadata": {},
     "output_type": "execute_result"
    }
   ],
   "source": [
    "np.mean(counts)"
   ]
  },
  {
   "cell_type": "code",
   "execution_count": 17,
   "id": "documentary-chancellor",
   "metadata": {},
   "outputs": [],
   "source": [
    "import pickle as pk\n",
    "with open('data/df.pkl','wb') as f:\n",
    "    pk.dump(df,f)"
   ]
  },
  {
   "cell_type": "markdown",
   "id": "little-expression",
   "metadata": {},
   "source": [
    "2. Performance of deep neural network for classification (20 pts)\n",
    "Suggested hyperparameters: \n",
    "\t\n",
    "Data processing: \n",
    "- Word embedding dimension: 100\n",
    "- Word Index: keep the most frequent 10k words\n",
    "\n",
    "CNN\n",
    "- Network: Word embedding lookup layer -> 1D CNN layer -> fully connected layer -> output prediction\n",
    "- Number of filters: 100\n",
    "- Filter length: 3\n",
    "- CNN Activation: Relu\n",
    "- Fully connected layer dimension 100, activation: None (i.e. this layer is linear)\n",
    "\n",
    "RNN:\n",
    "- Network: Word embedding lookup layer -> LSTM layer -> fully connected layer(on the hidden state of the last LSTM cell) -> output prediction\n",
    "- Hidden dimension for LSTM cell: 100\n",
    "- Activation for LSTM cell: tanh\n",
    "- Fully connected layer dimension 100, activation: None (i.e. this layer is linear)"
   ]
  },
  {
   "cell_type": "code",
   "execution_count": 133,
   "id": "answering-layer",
   "metadata": {},
   "outputs": [
    {
     "data": {
      "text/plain": [
       "{'whiskers': [<matplotlib.lines.Line2D at 0x1b3ff32c860>,\n",
       "  <matplotlib.lines.Line2D at 0x1b3ff32cb00>],\n",
       " 'caps': [<matplotlib.lines.Line2D at 0x1b3ff32ce10>,\n",
       "  <matplotlib.lines.Line2D at 0x1b3ff33e128>],\n",
       " 'boxes': [<matplotlib.lines.Line2D at 0x1b3ff32c5f8>],\n",
       " 'medians': [<matplotlib.lines.Line2D at 0x1b3ff33e400>],\n",
       " 'fliers': [<matplotlib.lines.Line2D at 0x1b3ff33e6d8>],\n",
       " 'means': []}"
      ]
     },
     "execution_count": 133,
     "metadata": {},
     "output_type": "execute_result"
    },
    {
     "data": {
      "image/png": "[encoded data removed]",
      "text/plain": [
       "<Figure size 432x288 with 1 Axes>"
      ]
     },
     "metadata": {
      "needs_background": "light"
     },
     "output_type": "display_data"
    }
   ],
   "source": [
    "plt.boxplot(counts)"
   ]
  },
  {
   "cell_type": "code",
   "execution_count": 22,
   "id": "seasonal-genius",
   "metadata": {},
   "outputs": [
    {
     "data": {
      "text/html": [
       "<div>\n",
       "<style scoped>\n",
       "    .dataframe tbody tr th:only-of-type {\n",
       "        vertical-align: middle;\n",
       "    }\n",
       "\n",
       "    .dataframe tbody tr th {\n",
       "        vertical-align: top;\n",
       "    }\n",
       "\n",
       "    .dataframe thead th {\n",
       "        text-align: right;\n",
       "    }\n",
       "</style>\n",
       "<table border=\"1\" class=\"dataframe\">\n",
       "  <thead>\n",
       "    <tr style=\"text-align: right;\">\n",
       "      <th></th>\n",
       "      <th>0</th>\n",
       "    </tr>\n",
       "  </thead>\n",
       "  <tbody>\n",
       "    <tr>\n",
       "      <th>count</th>\n",
       "      <td>2000.000000</td>\n",
       "    </tr>\n",
       "    <tr>\n",
       "      <th>mean</th>\n",
       "      <td>168.915000</td>\n",
       "    </tr>\n",
       "    <tr>\n",
       "      <th>std</th>\n",
       "      <td>186.859878</td>\n",
       "    </tr>\n",
       "    <tr>\n",
       "      <th>min</th>\n",
       "      <td>9.000000</td>\n",
       "    </tr>\n",
       "    <tr>\n",
       "      <th>25%</th>\n",
       "      <td>65.000000</td>\n",
       "    </tr>\n",
       "    <tr>\n",
       "      <th>50%</th>\n",
       "      <td>117.000000</td>\n",
       "    </tr>\n",
       "    <tr>\n",
       "      <th>75%</th>\n",
       "      <td>201.000000</td>\n",
       "    </tr>\n",
       "    <tr>\n",
       "      <th>max</th>\n",
       "      <td>3394.000000</td>\n",
       "    </tr>\n",
       "  </tbody>\n",
       "</table>\n",
       "</div>"
      ],
      "text/plain": [
       "                 0\n",
       "count  2000.000000\n",
       "mean    168.915000\n",
       "std     186.859878\n",
       "min       9.000000\n",
       "25%      65.000000\n",
       "50%     117.000000\n",
       "75%     201.000000\n",
       "max    3394.000000"
      ]
     },
     "execution_count": 22,
     "metadata": {},
     "output_type": "execute_result"
    }
   ],
   "source": [
    "pd.DataFrame(counts).describe()"
   ]
  },
  {
   "cell_type": "code",
   "execution_count": 25,
   "id": "suited-passport",
   "metadata": {},
   "outputs": [
    {
     "name": "stdout",
     "output_type": "stream",
     "text": [
      "including ratio : 0.9255\n"
     ]
    }
   ],
   "source": [
    "size = 400\n",
    "total = len(counts)\n",
    "i = 0 \n",
    "for x in counts:\n",
    "    if x < size:\n",
    "        i += 1\n",
    "print(\"including ratio :\",i/total)"
   ]
  },
  {
   "cell_type": "code",
   "execution_count": 70,
   "id": "heard-genius",
   "metadata": {},
   "outputs": [],
   "source": [
    "# - Word Index: keep the most frequent 10k words\n",
    "vocab_size = 10000\n",
    "token = Tokenizer(num_words = vocab_size + 1) # 상위 10000개 단어만 사용\n",
    "token.fit_on_texts(df.review)\n",
    "docs   = token.texts_to_sequences(df.review)"
   ]
  },
  {
   "cell_type": "code",
   "execution_count": 34,
   "id": "balanced-diving",
   "metadata": {},
   "outputs": [],
   "source": [
    "from tensorflow.keras.preprocessing.sequence import pad_sequences"
   ]
  },
  {
   "cell_type": "code",
   "execution_count": 36,
   "id": "paperback-spine",
   "metadata": {},
   "outputs": [],
   "source": [
    "# 데이터 전처리\n",
    "max_len = 400\n",
    "xtr = pad_sequences(docs, maxlen=max_len)\n",
    "# xte = sequence.pad_sequences(X_test, maxlen=max_len)"
   ]
  },
  {
   "cell_type": "markdown",
   "id": "federal-snapshot",
   "metadata": {},
   "source": [
    "Let me make Embedding Matrix !! "
   ]
  },
  {
   "cell_type": "code",
   "execution_count": 60,
   "id": "careful-manner",
   "metadata": {},
   "outputs": [],
   "source": [
    "wv = pd.read_csv('./data/all.review.vec.txt',sep=' ',skiprows=1,header=None)\n",
    "\n",
    "wv.set_index(0,inplace=True)\n",
    "del wv[101]"
   ]
  },
  {
   "cell_type": "code",
   "execution_count": 83,
   "id": "fuzzy-principal",
   "metadata": {},
   "outputs": [],
   "source": [
    "for x in docs:\n",
    "    for i in x :\n",
    "        if i > 10000:\n",
    "            print(i)"
   ]
  },
  {
   "cell_type": "code",
   "execution_count": 110,
   "id": "framed-rating",
   "metadata": {},
   "outputs": [
    {
     "data": {
      "text/plain": [
       "22764"
      ]
     },
     "execution_count": 110,
     "metadata": {},
     "output_type": "execute_result"
    }
   ],
   "source": [
    "len(token.index_word)"
   ]
  },
  {
   "cell_type": "code",
   "execution_count": 113,
   "id": "convenient-cornell",
   "metadata": {
    "collapsed": true,
    "jupyter": {
     "outputs_hidden": true
    }
   },
   "outputs": [
    {
     "ename": "KeyError",
     "evalue": "'strag'",
     "output_type": "error",
     "traceback": [
      "\u001b[1;31m---------------------------------------------------------------------------\u001b[0m",
      "\u001b[1;31mKeyError\u001b[0m                                  Traceback (most recent call last)",
      "\u001b[1;32m~\\dev\\Anaconda\\envs\\kera\\lib\\site-packages\\pandas\\core\\indexes\\base.py\u001b[0m in \u001b[0;36mget_loc\u001b[1;34m(self, key, method, tolerance)\u001b[0m\n\u001b[0;32m   2897\u001b[0m             \u001b[1;32mtry\u001b[0m\u001b[1;33m:\u001b[0m\u001b[1;33m\u001b[0m\u001b[1;33m\u001b[0m\u001b[0m\n\u001b[1;32m-> 2898\u001b[1;33m                 \u001b[1;32mreturn\u001b[0m \u001b[0mself\u001b[0m\u001b[1;33m.\u001b[0m\u001b[0m_engine\u001b[0m\u001b[1;33m.\u001b[0m\u001b[0mget_loc\u001b[0m\u001b[1;33m(\u001b[0m\u001b[0mcasted_key\u001b[0m\u001b[1;33m)\u001b[0m\u001b[1;33m\u001b[0m\u001b[1;33m\u001b[0m\u001b[0m\n\u001b[0m\u001b[0;32m   2899\u001b[0m             \u001b[1;32mexcept\u001b[0m \u001b[0mKeyError\u001b[0m \u001b[1;32mas\u001b[0m \u001b[0merr\u001b[0m\u001b[1;33m:\u001b[0m\u001b[1;33m\u001b[0m\u001b[1;33m\u001b[0m\u001b[0m\n",
      "\u001b[1;32mpandas\\_libs\\index.pyx\u001b[0m in \u001b[0;36mpandas._libs.index.IndexEngine.get_loc\u001b[1;34m()\u001b[0m\n",
      "\u001b[1;32mpandas\\_libs\\index.pyx\u001b[0m in \u001b[0;36mpandas._libs.index.IndexEngine.get_loc\u001b[1;34m()\u001b[0m\n",
      "\u001b[1;32mpandas\\_libs\\index.pyx\u001b[0m in \u001b[0;36mpandas._libs.index.IndexEngine._get_loc_duplicates\u001b[1;34m()\u001b[0m\n",
      "\u001b[1;32mpandas\\_libs\\index.pyx\u001b[0m in \u001b[0;36mpandas._libs.index.IndexEngine._maybe_get_bool_indexer\u001b[1;34m()\u001b[0m\n",
      "\u001b[1;32mpandas\\_libs\\index.pyx\u001b[0m in \u001b[0;36mpandas._libs.index.IndexEngine._unpack_bool_indexer\u001b[1;34m()\u001b[0m\n",
      "\u001b[1;31mKeyError\u001b[0m: 'strag'",
      "\nThe above exception was the direct cause of the following exception:\n",
      "\u001b[1;31mKeyError\u001b[0m                                  Traceback (most recent call last)",
      "\u001b[1;32m<ipython-input-113-31085c88c4f1>\u001b[0m in \u001b[0;36m<module>\u001b[1;34m\u001b[0m\n\u001b[1;32m----> 1\u001b[1;33m \u001b[0mwv\u001b[0m\u001b[1;33m.\u001b[0m\u001b[0mloc\u001b[0m\u001b[1;33m[\u001b[0m\u001b[1;34m'strag'\u001b[0m\u001b[1;33m]\u001b[0m\u001b[1;33m\u001b[0m\u001b[1;33m\u001b[0m\u001b[0m\n\u001b[0m",
      "\u001b[1;32m~\\dev\\Anaconda\\envs\\kera\\lib\\site-packages\\pandas\\core\\indexing.py\u001b[0m in \u001b[0;36m__getitem__\u001b[1;34m(self, key)\u001b[0m\n\u001b[0;32m    877\u001b[0m \u001b[1;33m\u001b[0m\u001b[0m\n\u001b[0;32m    878\u001b[0m             \u001b[0mmaybe_callable\u001b[0m \u001b[1;33m=\u001b[0m \u001b[0mcom\u001b[0m\u001b[1;33m.\u001b[0m\u001b[0mapply_if_callable\u001b[0m\u001b[1;33m(\u001b[0m\u001b[0mkey\u001b[0m\u001b[1;33m,\u001b[0m \u001b[0mself\u001b[0m\u001b[1;33m.\u001b[0m\u001b[0mobj\u001b[0m\u001b[1;33m)\u001b[0m\u001b[1;33m\u001b[0m\u001b[1;33m\u001b[0m\u001b[0m\n\u001b[1;32m--> 879\u001b[1;33m             \u001b[1;32mreturn\u001b[0m \u001b[0mself\u001b[0m\u001b[1;33m.\u001b[0m\u001b[0m_getitem_axis\u001b[0m\u001b[1;33m(\u001b[0m\u001b[0mmaybe_callable\u001b[0m\u001b[1;33m,\u001b[0m \u001b[0maxis\u001b[0m\u001b[1;33m=\u001b[0m\u001b[0maxis\u001b[0m\u001b[1;33m)\u001b[0m\u001b[1;33m\u001b[0m\u001b[1;33m\u001b[0m\u001b[0m\n\u001b[0m\u001b[0;32m    880\u001b[0m \u001b[1;33m\u001b[0m\u001b[0m\n\u001b[0;32m    881\u001b[0m     \u001b[1;32mdef\u001b[0m \u001b[0m_is_scalar_access\u001b[0m\u001b[1;33m(\u001b[0m\u001b[0mself\u001b[0m\u001b[1;33m,\u001b[0m \u001b[0mkey\u001b[0m\u001b[1;33m:\u001b[0m \u001b[0mTuple\u001b[0m\u001b[1;33m)\u001b[0m\u001b[1;33m:\u001b[0m\u001b[1;33m\u001b[0m\u001b[1;33m\u001b[0m\u001b[0m\n",
      "\u001b[1;32m~\\dev\\Anaconda\\envs\\kera\\lib\\site-packages\\pandas\\core\\indexing.py\u001b[0m in \u001b[0;36m_getitem_axis\u001b[1;34m(self, key, axis)\u001b[0m\n\u001b[0;32m   1108\u001b[0m         \u001b[1;31m# fall thru to straight lookup\u001b[0m\u001b[1;33m\u001b[0m\u001b[1;33m\u001b[0m\u001b[1;33m\u001b[0m\u001b[0m\n\u001b[0;32m   1109\u001b[0m         \u001b[0mself\u001b[0m\u001b[1;33m.\u001b[0m\u001b[0m_validate_key\u001b[0m\u001b[1;33m(\u001b[0m\u001b[0mkey\u001b[0m\u001b[1;33m,\u001b[0m \u001b[0maxis\u001b[0m\u001b[1;33m)\u001b[0m\u001b[1;33m\u001b[0m\u001b[1;33m\u001b[0m\u001b[0m\n\u001b[1;32m-> 1110\u001b[1;33m         \u001b[1;32mreturn\u001b[0m \u001b[0mself\u001b[0m\u001b[1;33m.\u001b[0m\u001b[0m_get_label\u001b[0m\u001b[1;33m(\u001b[0m\u001b[0mkey\u001b[0m\u001b[1;33m,\u001b[0m \u001b[0maxis\u001b[0m\u001b[1;33m=\u001b[0m\u001b[0maxis\u001b[0m\u001b[1;33m)\u001b[0m\u001b[1;33m\u001b[0m\u001b[1;33m\u001b[0m\u001b[0m\n\u001b[0m\u001b[0;32m   1111\u001b[0m \u001b[1;33m\u001b[0m\u001b[0m\n\u001b[0;32m   1112\u001b[0m     \u001b[1;32mdef\u001b[0m \u001b[0m_get_slice_axis\u001b[0m\u001b[1;33m(\u001b[0m\u001b[0mself\u001b[0m\u001b[1;33m,\u001b[0m \u001b[0mslice_obj\u001b[0m\u001b[1;33m:\u001b[0m \u001b[0mslice\u001b[0m\u001b[1;33m,\u001b[0m \u001b[0maxis\u001b[0m\u001b[1;33m:\u001b[0m \u001b[0mint\u001b[0m\u001b[1;33m)\u001b[0m\u001b[1;33m:\u001b[0m\u001b[1;33m\u001b[0m\u001b[1;33m\u001b[0m\u001b[0m\n",
      "\u001b[1;32m~\\dev\\Anaconda\\envs\\kera\\lib\\site-packages\\pandas\\core\\indexing.py\u001b[0m in \u001b[0;36m_get_label\u001b[1;34m(self, label, axis)\u001b[0m\n\u001b[0;32m   1057\u001b[0m     \u001b[1;32mdef\u001b[0m \u001b[0m_get_label\u001b[0m\u001b[1;33m(\u001b[0m\u001b[0mself\u001b[0m\u001b[1;33m,\u001b[0m \u001b[0mlabel\u001b[0m\u001b[1;33m,\u001b[0m \u001b[0maxis\u001b[0m\u001b[1;33m:\u001b[0m \u001b[0mint\u001b[0m\u001b[1;33m)\u001b[0m\u001b[1;33m:\u001b[0m\u001b[1;33m\u001b[0m\u001b[1;33m\u001b[0m\u001b[0m\n\u001b[0;32m   1058\u001b[0m         \u001b[1;31m# GH#5667 this will fail if the label is not present in the axis.\u001b[0m\u001b[1;33m\u001b[0m\u001b[1;33m\u001b[0m\u001b[1;33m\u001b[0m\u001b[0m\n\u001b[1;32m-> 1059\u001b[1;33m         \u001b[1;32mreturn\u001b[0m \u001b[0mself\u001b[0m\u001b[1;33m.\u001b[0m\u001b[0mobj\u001b[0m\u001b[1;33m.\u001b[0m\u001b[0mxs\u001b[0m\u001b[1;33m(\u001b[0m\u001b[0mlabel\u001b[0m\u001b[1;33m,\u001b[0m \u001b[0maxis\u001b[0m\u001b[1;33m=\u001b[0m\u001b[0maxis\u001b[0m\u001b[1;33m)\u001b[0m\u001b[1;33m\u001b[0m\u001b[1;33m\u001b[0m\u001b[0m\n\u001b[0m\u001b[0;32m   1060\u001b[0m \u001b[1;33m\u001b[0m\u001b[0m\n\u001b[0;32m   1061\u001b[0m     \u001b[1;32mdef\u001b[0m \u001b[0m_handle_lowerdim_multi_index_axis0\u001b[0m\u001b[1;33m(\u001b[0m\u001b[0mself\u001b[0m\u001b[1;33m,\u001b[0m \u001b[0mtup\u001b[0m\u001b[1;33m:\u001b[0m \u001b[0mTuple\u001b[0m\u001b[1;33m)\u001b[0m\u001b[1;33m:\u001b[0m\u001b[1;33m\u001b[0m\u001b[1;33m\u001b[0m\u001b[0m\n",
      "\u001b[1;32m~\\dev\\Anaconda\\envs\\kera\\lib\\site-packages\\pandas\\core\\generic.py\u001b[0m in \u001b[0;36mxs\u001b[1;34m(self, key, axis, level, drop_level)\u001b[0m\n\u001b[0;32m   3491\u001b[0m             \u001b[0mloc\u001b[0m\u001b[1;33m,\u001b[0m \u001b[0mnew_index\u001b[0m \u001b[1;33m=\u001b[0m \u001b[0mself\u001b[0m\u001b[1;33m.\u001b[0m\u001b[0mindex\u001b[0m\u001b[1;33m.\u001b[0m\u001b[0mget_loc_level\u001b[0m\u001b[1;33m(\u001b[0m\u001b[0mkey\u001b[0m\u001b[1;33m,\u001b[0m \u001b[0mdrop_level\u001b[0m\u001b[1;33m=\u001b[0m\u001b[0mdrop_level\u001b[0m\u001b[1;33m)\u001b[0m\u001b[1;33m\u001b[0m\u001b[1;33m\u001b[0m\u001b[0m\n\u001b[0;32m   3492\u001b[0m         \u001b[1;32melse\u001b[0m\u001b[1;33m:\u001b[0m\u001b[1;33m\u001b[0m\u001b[1;33m\u001b[0m\u001b[0m\n\u001b[1;32m-> 3493\u001b[1;33m             \u001b[0mloc\u001b[0m \u001b[1;33m=\u001b[0m \u001b[0mself\u001b[0m\u001b[1;33m.\u001b[0m\u001b[0mindex\u001b[0m\u001b[1;33m.\u001b[0m\u001b[0mget_loc\u001b[0m\u001b[1;33m(\u001b[0m\u001b[0mkey\u001b[0m\u001b[1;33m)\u001b[0m\u001b[1;33m\u001b[0m\u001b[1;33m\u001b[0m\u001b[0m\n\u001b[0m\u001b[0;32m   3494\u001b[0m \u001b[1;33m\u001b[0m\u001b[0m\n\u001b[0;32m   3495\u001b[0m             \u001b[1;32mif\u001b[0m \u001b[0misinstance\u001b[0m\u001b[1;33m(\u001b[0m\u001b[0mloc\u001b[0m\u001b[1;33m,\u001b[0m \u001b[0mnp\u001b[0m\u001b[1;33m.\u001b[0m\u001b[0mndarray\u001b[0m\u001b[1;33m)\u001b[0m\u001b[1;33m:\u001b[0m\u001b[1;33m\u001b[0m\u001b[1;33m\u001b[0m\u001b[0m\n",
      "\u001b[1;32m~\\dev\\Anaconda\\envs\\kera\\lib\\site-packages\\pandas\\core\\indexes\\base.py\u001b[0m in \u001b[0;36mget_loc\u001b[1;34m(self, key, method, tolerance)\u001b[0m\n\u001b[0;32m   2898\u001b[0m                 \u001b[1;32mreturn\u001b[0m \u001b[0mself\u001b[0m\u001b[1;33m.\u001b[0m\u001b[0m_engine\u001b[0m\u001b[1;33m.\u001b[0m\u001b[0mget_loc\u001b[0m\u001b[1;33m(\u001b[0m\u001b[0mcasted_key\u001b[0m\u001b[1;33m)\u001b[0m\u001b[1;33m\u001b[0m\u001b[1;33m\u001b[0m\u001b[0m\n\u001b[0;32m   2899\u001b[0m             \u001b[1;32mexcept\u001b[0m \u001b[0mKeyError\u001b[0m \u001b[1;32mas\u001b[0m \u001b[0merr\u001b[0m\u001b[1;33m:\u001b[0m\u001b[1;33m\u001b[0m\u001b[1;33m\u001b[0m\u001b[0m\n\u001b[1;32m-> 2900\u001b[1;33m                 \u001b[1;32mraise\u001b[0m \u001b[0mKeyError\u001b[0m\u001b[1;33m(\u001b[0m\u001b[0mkey\u001b[0m\u001b[1;33m)\u001b[0m \u001b[1;32mfrom\u001b[0m \u001b[0merr\u001b[0m\u001b[1;33m\u001b[0m\u001b[1;33m\u001b[0m\u001b[0m\n\u001b[0m\u001b[0;32m   2901\u001b[0m \u001b[1;33m\u001b[0m\u001b[0m\n\u001b[0;32m   2902\u001b[0m         \u001b[1;32mif\u001b[0m \u001b[0mtolerance\u001b[0m \u001b[1;32mis\u001b[0m \u001b[1;32mnot\u001b[0m \u001b[1;32mNone\u001b[0m\u001b[1;33m:\u001b[0m\u001b[1;33m\u001b[0m\u001b[1;33m\u001b[0m\u001b[0m\n",
      "\u001b[1;31mKeyError\u001b[0m: 'strag'"
     ]
    }
   ],
   "source": [
    "try:\n",
    "    wv.loc['strag']\n",
    "except:\n",
    "    "
   ]
  },
  {
   "cell_type": "code",
   "execution_count": null,
   "id": "soviet-scout",
   "metadata": {},
   "outputs": [],
   "source": []
  },
  {
   "cell_type": "code",
   "execution_count": 168,
   "id": "appreciated-sustainability",
   "metadata": {},
   "outputs": [
    {
     "data": {
      "text/plain": [
       "'the'"
      ]
     },
     "execution_count": 168,
     "metadata": {},
     "output_type": "execute_result"
    }
   ],
   "source": [
    "token.index_word[1]"
   ]
  },
  {
   "cell_type": "code",
   "execution_count": 162,
   "id": "brave-device",
   "metadata": {},
   "outputs": [],
   "source": [
    "# - Word embedding dimension: 100\n",
    "    \n",
    "vector_size = 100  #100\n",
    "vocab_size = 10001\n",
    "# vocab_size  = token.num_words # 10000+ 1 \n",
    "\n",
    "embedding_matrix = np.zeros((vocab_size, vector_size))\n",
    "\n",
    "def get_vector(word):\n",
    "    if word in wv.index:\n",
    "        return wv.loc[word]\n",
    "    else:\n",
    "        return None\n",
    "\n",
    "num = 0\n",
    "word_index = [( i,word) for i,word in token.index_word.items()][:10000]\n",
    "# not_used = []\n",
    "for i,word in word_index: # 훈련 데이터의 단어 집합에서 단어와 정수 인덱스를 1개씩 꺼내온다.\n",
    "    temp = get_vector(word) # 단어(key) 해당되는 임베딩 벡터의 300개의 값(value)를 임시 변수에 저장\n",
    "    if temp is not None: # 만약 None이 아니라면 임베딩 벡터의 값을 리턴받은 것이므로\n",
    "        \n",
    "        embedding_matrix[i] = temp # 해당 단어 위치의 행에 벡터의 값을 저장한다.\n",
    "#     else :\n",
    "#         not_used.append(word)\n",
    "#         num+=1"
   ]
  },
  {
   "cell_type": "code",
   "execution_count": 181,
   "id": "loaded-singer",
   "metadata": {},
   "outputs": [],
   "source": [
    "from keras.datasets import mnist\n",
    "from keras.utils import np_utils\n",
    "from keras.models import Sequential\n",
    "from keras.layers import Dense, Flatten  \n",
    "\n",
    "from keras.layers import Conv2D,MaxPooling1D,MaxPooling2D ,Conv1D\n",
    "\n",
    "from keras.layers import Dropout\n",
    "from keras.layers import Embedding , LSTM\n",
    "\n",
    "from keras.callbacks import ModelCheckpoint,EarlyStopping"
   ]
  },
  {
   "cell_type": "code",
   "execution_count": null,
   "id": "welcome-pasta",
   "metadata": {},
   "outputs": [],
   "source": [
    "CNN\n",
    "Network: Word embedding lookup layer -> 1D CNN layer -> fully connected layer -> output prediction\n",
    "Number of filters: 100\n",
    "Filter length: 3\n",
    "CNN Activation: Relu\n",
    "Fully connected layer dimension 100, activation: None (i.e. this layer is linear)"
   ]
  },
  {
   "cell_type": "code",
   "execution_count": 183,
   "id": "reverse-amber",
   "metadata": {},
   "outputs": [],
   "source": [
    "# cnn model\n",
    "model1 = Sequential()\n",
    "e = Embedding(vocab_size, vector_size, weights=[embedding_matrix], input_length=max_len, trainable=False)\n",
    "model1.add(e)\n",
    "# model1.add(Flatten())\n",
    "# model.add(Dropout(0.5)) \n",
    "model1.add(Conv1D(100, 3, padding='valid', activation='relu',strides=1))\n",
    "model1.add(Dense(100))\n",
    "model1.add(Dense(1,activation='sigmoid'))\n",
    "# model1.add(MaxPooling1D(pool_size=4))\n",
    "# model1.add(LSTM(55))\n",
    "model1.compile(optimizer='adam', loss='binary_crossentropy', metrics=['acc'])"
   ]
  },
  {
   "cell_type": "code",
   "execution_count": 187,
   "id": "conceptual-watershed",
   "metadata": {},
   "outputs": [],
   "source": [
    "# rnn family model\n",
    "model2 = Sequential()\n",
    "e = Embedding(vocab_size, vector_size, weights=[embedding_matrix], input_length=max_len, trainable=False)\n",
    "model2.add(e)\n",
    "model2.add(LSTM(100,activation='tanh'))\n",
    "# model.add(Dropout(0.5))\n",
    "model2.add(Dense(100))\n",
    "model2.add(Dense(1,activation='sigmoid'))\n",
    "\n",
    "model1.compile(optimizer='adam', loss='binary_crossentropy', metrics=['acc'])"
   ]
  },
  {
   "cell_type": "code",
   "execution_count": null,
   "id": "available-script",
   "metadata": {},
   "outputs": [],
   "source": [
    "model1.fit(xtr, y_train, batch_size=100, epochs=5, verbose=1,validation_data=(xte, y_test)\n",
    "           ,callbacks=[tensorboard_callback])"
   ]
  }
 ],
 "metadata": {
  "kernelspec": {
   "display_name": "kera",
   "language": "python",
   "name": "kera"
  },
  "language_info": {
   "codemirror_mode": {
    "name": "ipython",
    "version": 3
   },
   "file_extension": ".py",
   "mimetype": "text/x-python",
   "name": "python",
   "nbconvert_exporter": "python",
   "pygments_lexer": "ipython3",
   "version": "3.6.12"
  },
  "widgets": {
   "application/vnd.jupyter.widget-state+json": {
    "state": {},
    "version_major": 2,
    "version_minor": 0
   }
  }
 },
 "nbformat": 4,
 "nbformat_minor": 5
}
